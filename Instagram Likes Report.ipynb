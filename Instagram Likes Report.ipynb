{
 "cells": [
  {
   "cell_type": "markdown",
   "id": "450b00c1",
   "metadata": {},
   "source": [
    "# Instagram Likes Report\n",
    "## By: Rebecca Haywood\n",
    "### Date: 9/20/2022"
   ]
  },
  {
   "cell_type": "markdown",
   "id": "b8e0f8e7",
   "metadata": {},
   "source": [
    "For this report, I have used the data collected by Instagram. Specifically the data collected about what posts I have liked since beginning my account on Instagram when I was a teenager. To structure this data I have used both the software of pandas and jupyter notebooks as well as json files. "
   ]
  },
  {
   "cell_type": "markdown",
   "id": "6e287c34",
   "metadata": {},
   "source": [
    " #### I hypothesize I have been on Instagram more in the past than recently and my data will reflect this. It will reflect it in such a way that users I no longer follow and or have even forgotten about will be within the top 20 likes of my data. "
   ]
  },
  {
   "cell_type": "markdown",
   "id": "10e73832",
   "metadata": {},
   "source": [
    "##### I also hypothesize that my data will reflect my age and how I used to use Instagram a lot more when I was younger versus now."
   ]
  },
  {
   "cell_type": "code",
   "execution_count": 2,
   "id": "71269540",
   "metadata": {},
   "outputs": [],
   "source": [
    "import pandas as pd\n",
    "import json"
   ]
  },
  {
   "cell_type": "code",
   "execution_count": 3,
   "id": "da823235",
   "metadata": {},
   "outputs": [],
   "source": [
    "with open(r\"C:\\Users\\footb\\Data Fa22\\rebeccah189_20220906\\likes\\liked_posts.json\") as j:\n",
    "    liked_posts = json.load(j)"
   ]
  },
  {
   "cell_type": "code",
   "execution_count": 4,
   "id": "c14ab502",
   "metadata": {},
   "outputs": [],
   "source": [
    "liked_posts_df= pd.DataFrame({'a': [1, 2, 3], 'b': [4, 5, 6], 'c': [7, 8, 9]})"
   ]
  },
  {
   "cell_type": "code",
   "execution_count": null,
   "id": "ca000197",
   "metadata": {
    "scrolled": true
   },
   "outputs": [],
   "source": [
    "liked_posts_df"
   ]
  },
  {
   "cell_type": "code",
   "execution_count": 6,
   "id": "0d80a72f",
   "metadata": {},
   "outputs": [],
   "source": [
    "liked_posts_df2 = pd.DataFrame([{'a': 1, 'b': 4, 'c':7}, {'a': 2, 'b':5, 'c':8}, {'a': 3, 'b': 6, 'c':9}])"
   ]
  },
  {
   "cell_type": "code",
   "execution_count": 7,
   "id": "cda1e65b",
   "metadata": {},
   "outputs": [
    {
     "data": {
      "text/html": [
       "<div>\n",
       "<style scoped>\n",
       "    .dataframe tbody tr th:only-of-type {\n",
       "        vertical-align: middle;\n",
       "    }\n",
       "\n",
       "    .dataframe tbody tr th {\n",
       "        vertical-align: top;\n",
       "    }\n",
       "\n",
       "    .dataframe thead th {\n",
       "        text-align: right;\n",
       "    }\n",
       "</style>\n",
       "<table border=\"1\" class=\"dataframe\">\n",
       "  <thead>\n",
       "    <tr style=\"text-align: right;\">\n",
       "      <th></th>\n",
       "      <th>a</th>\n",
       "      <th>b</th>\n",
       "      <th>c</th>\n",
       "    </tr>\n",
       "  </thead>\n",
       "  <tbody>\n",
       "    <tr>\n",
       "      <th>0</th>\n",
       "      <td>1</td>\n",
       "      <td>4</td>\n",
       "      <td>7</td>\n",
       "    </tr>\n",
       "    <tr>\n",
       "      <th>1</th>\n",
       "      <td>2</td>\n",
       "      <td>5</td>\n",
       "      <td>8</td>\n",
       "    </tr>\n",
       "    <tr>\n",
       "      <th>2</th>\n",
       "      <td>3</td>\n",
       "      <td>6</td>\n",
       "      <td>9</td>\n",
       "    </tr>\n",
       "  </tbody>\n",
       "</table>\n",
       "</div>"
      ],
      "text/plain": [
       "   a  b  c\n",
       "0  1  4  7\n",
       "1  2  5  8\n",
       "2  3  6  9"
      ]
     },
     "execution_count": 7,
     "metadata": {},
     "output_type": "execute_result"
    }
   ],
   "source": [
    "liked_posts_df2"
   ]
  },
  {
   "cell_type": "code",
   "execution_count": null,
   "id": "3977f6a8",
   "metadata": {},
   "outputs": [],
   "source": [
    "liked_posts"
   ]
  },
  {
   "cell_type": "code",
   "execution_count": 9,
   "id": "427ae460",
   "metadata": {},
   "outputs": [],
   "source": [
    "test1 = pd.DataFrame(liked_posts)"
   ]
  },
  {
   "cell_type": "code",
   "execution_count": 10,
   "id": "f522b587",
   "metadata": {
    "scrolled": false
   },
   "outputs": [
    {
     "data": {
      "text/html": [
       "<div>\n",
       "<style scoped>\n",
       "    .dataframe tbody tr th:only-of-type {\n",
       "        vertical-align: middle;\n",
       "    }\n",
       "\n",
       "    .dataframe tbody tr th {\n",
       "        vertical-align: top;\n",
       "    }\n",
       "\n",
       "    .dataframe thead th {\n",
       "        text-align: right;\n",
       "    }\n",
       "</style>\n",
       "<table border=\"1\" class=\"dataframe\">\n",
       "  <thead>\n",
       "    <tr style=\"text-align: right;\">\n",
       "      <th></th>\n",
       "      <th>likes_media_likes</th>\n",
       "    </tr>\n",
       "  </thead>\n",
       "  <tbody>\n",
       "    <tr>\n",
       "      <th>0</th>\n",
       "      <td>{'title': 'therealcarl0spena', 'media_list_dat...</td>\n",
       "    </tr>\n",
       "    <tr>\n",
       "      <th>1</th>\n",
       "      <td>{'title': 'godsholyscriptures', 'media_list_da...</td>\n",
       "    </tr>\n",
       "    <tr>\n",
       "      <th>2</th>\n",
       "      <td>{'title': 'ashley_phillips_97', 'media_list_da...</td>\n",
       "    </tr>\n",
       "    <tr>\n",
       "      <th>3</th>\n",
       "      <td>{'title': 'chancehooper1224', 'media_list_data...</td>\n",
       "    </tr>\n",
       "    <tr>\n",
       "      <th>4</th>\n",
       "      <td>{'title': 'chancehooper1224', 'media_list_data...</td>\n",
       "    </tr>\n",
       "  </tbody>\n",
       "</table>\n",
       "</div>"
      ],
      "text/plain": [
       "                                   likes_media_likes\n",
       "0  {'title': 'therealcarl0spena', 'media_list_dat...\n",
       "1  {'title': 'godsholyscriptures', 'media_list_da...\n",
       "2  {'title': 'ashley_phillips_97', 'media_list_da...\n",
       "3  {'title': 'chancehooper1224', 'media_list_data...\n",
       "4  {'title': 'chancehooper1224', 'media_list_data..."
      ]
     },
     "execution_count": 10,
     "metadata": {},
     "output_type": "execute_result"
    }
   ],
   "source": [
    "test1.head()"
   ]
  },
  {
   "cell_type": "code",
   "execution_count": 11,
   "id": "206a799c",
   "metadata": {},
   "outputs": [],
   "source": [
    "test2 = pd.DataFrame(liked_posts['likes_media_likes'])"
   ]
  },
  {
   "cell_type": "code",
   "execution_count": 12,
   "id": "141fd4e4",
   "metadata": {
    "scrolled": true
   },
   "outputs": [
    {
     "data": {
      "text/html": [
       "<div>\n",
       "<style scoped>\n",
       "    .dataframe tbody tr th:only-of-type {\n",
       "        vertical-align: middle;\n",
       "    }\n",
       "\n",
       "    .dataframe tbody tr th {\n",
       "        vertical-align: top;\n",
       "    }\n",
       "\n",
       "    .dataframe thead th {\n",
       "        text-align: right;\n",
       "    }\n",
       "</style>\n",
       "<table border=\"1\" class=\"dataframe\">\n",
       "  <thead>\n",
       "    <tr style=\"text-align: right;\">\n",
       "      <th></th>\n",
       "      <th>title</th>\n",
       "      <th>media_list_data</th>\n",
       "      <th>string_list_data</th>\n",
       "    </tr>\n",
       "  </thead>\n",
       "  <tbody>\n",
       "    <tr>\n",
       "      <th>0</th>\n",
       "      <td>therealcarl0spena</td>\n",
       "      <td>[]</td>\n",
       "      <td>[{'href': 'https://www.instagram.com/p/poQC9rP...</td>\n",
       "    </tr>\n",
       "    <tr>\n",
       "      <th>1</th>\n",
       "      <td>godsholyscriptures</td>\n",
       "      <td>[]</td>\n",
       "      <td>[{'href': 'https://www.instagram.com/p/pm0kjBy...</td>\n",
       "    </tr>\n",
       "    <tr>\n",
       "      <th>2</th>\n",
       "      <td>ashley_phillips_97</td>\n",
       "      <td>[]</td>\n",
       "      <td>[{'href': 'https://www.instagram.com/p/pm5mgci...</td>\n",
       "    </tr>\n",
       "    <tr>\n",
       "      <th>3</th>\n",
       "      <td>chancehooper1224</td>\n",
       "      <td>[]</td>\n",
       "      <td>[{'href': 'https://www.instagram.com/p/pm6EV-J...</td>\n",
       "    </tr>\n",
       "    <tr>\n",
       "      <th>4</th>\n",
       "      <td>chancehooper1224</td>\n",
       "      <td>[]</td>\n",
       "      <td>[{'href': 'https://www.instagram.com/p/pms9ONJ...</td>\n",
       "    </tr>\n",
       "  </tbody>\n",
       "</table>\n",
       "</div>"
      ],
      "text/plain": [
       "                title media_list_data  \\\n",
       "0   therealcarl0spena              []   \n",
       "1  godsholyscriptures              []   \n",
       "2  ashley_phillips_97              []   \n",
       "3    chancehooper1224              []   \n",
       "4    chancehooper1224              []   \n",
       "\n",
       "                                    string_list_data  \n",
       "0  [{'href': 'https://www.instagram.com/p/poQC9rP...  \n",
       "1  [{'href': 'https://www.instagram.com/p/pm0kjBy...  \n",
       "2  [{'href': 'https://www.instagram.com/p/pm5mgci...  \n",
       "3  [{'href': 'https://www.instagram.com/p/pm6EV-J...  \n",
       "4  [{'href': 'https://www.instagram.com/p/pms9ONJ...  "
      ]
     },
     "execution_count": 12,
     "metadata": {},
     "output_type": "execute_result"
    }
   ],
   "source": [
    "test2.head()"
   ]
  },
  {
   "cell_type": "code",
   "execution_count": 13,
   "id": "3d73f9d2",
   "metadata": {
    "scrolled": true
   },
   "outputs": [
    {
     "data": {
      "text/plain": [
       "[{'href': 'https://www.instagram.com/p/poQC9rP6uN/',\n",
       "  'value': 'ð\\x9f\\x91\\x8d',\n",
       "  'timestamp': 1403618902}]"
      ]
     },
     "execution_count": 13,
     "metadata": {},
     "output_type": "execute_result"
    }
   ],
   "source": [
    "test2['string_list_data'][0]"
   ]
  },
  {
   "cell_type": "code",
   "execution_count": 14,
   "id": "7b92a090",
   "metadata": {
    "scrolled": false
   },
   "outputs": [
    {
     "data": {
      "text/plain": [
       "{'href': 'https://www.instagram.com/p/poQC9rP6uN/',\n",
       " 'value': 'ð\\x9f\\x91\\x8d',\n",
       " 'timestamp': 1403618902}"
      ]
     },
     "execution_count": 14,
     "metadata": {},
     "output_type": "execute_result"
    }
   ],
   "source": [
    "test2['string_list_data'][0][0]"
   ]
  },
  {
   "cell_type": "code",
   "execution_count": 15,
   "id": "def2c1b6",
   "metadata": {
    "scrolled": false
   },
   "outputs": [
    {
     "data": {
      "text/html": [
       "<div>\n",
       "<style scoped>\n",
       "    .dataframe tbody tr th:only-of-type {\n",
       "        vertical-align: middle;\n",
       "    }\n",
       "\n",
       "    .dataframe tbody tr th {\n",
       "        vertical-align: top;\n",
       "    }\n",
       "\n",
       "    .dataframe thead th {\n",
       "        text-align: right;\n",
       "    }\n",
       "</style>\n",
       "<table border=\"1\" class=\"dataframe\">\n",
       "  <thead>\n",
       "    <tr style=\"text-align: right;\">\n",
       "      <th></th>\n",
       "      <th>title</th>\n",
       "      <th>media_list_data</th>\n",
       "      <th>string_list_data</th>\n",
       "    </tr>\n",
       "  </thead>\n",
       "  <tbody>\n",
       "    <tr>\n",
       "      <th>0</th>\n",
       "      <td>therealcarl0spena</td>\n",
       "      <td>[]</td>\n",
       "      <td>[{'href': 'https://www.instagram.com/p/poQC9rP...</td>\n",
       "    </tr>\n",
       "    <tr>\n",
       "      <th>1</th>\n",
       "      <td>godsholyscriptures</td>\n",
       "      <td>[]</td>\n",
       "      <td>[{'href': 'https://www.instagram.com/p/pm0kjBy...</td>\n",
       "    </tr>\n",
       "    <tr>\n",
       "      <th>2</th>\n",
       "      <td>ashley_phillips_97</td>\n",
       "      <td>[]</td>\n",
       "      <td>[{'href': 'https://www.instagram.com/p/pm5mgci...</td>\n",
       "    </tr>\n",
       "    <tr>\n",
       "      <th>3</th>\n",
       "      <td>chancehooper1224</td>\n",
       "      <td>[]</td>\n",
       "      <td>[{'href': 'https://www.instagram.com/p/pm6EV-J...</td>\n",
       "    </tr>\n",
       "    <tr>\n",
       "      <th>4</th>\n",
       "      <td>chancehooper1224</td>\n",
       "      <td>[]</td>\n",
       "      <td>[{'href': 'https://www.instagram.com/p/pms9ONJ...</td>\n",
       "    </tr>\n",
       "  </tbody>\n",
       "</table>\n",
       "</div>"
      ],
      "text/plain": [
       "                title media_list_data  \\\n",
       "0   therealcarl0spena              []   \n",
       "1  godsholyscriptures              []   \n",
       "2  ashley_phillips_97              []   \n",
       "3    chancehooper1224              []   \n",
       "4    chancehooper1224              []   \n",
       "\n",
       "                                    string_list_data  \n",
       "0  [{'href': 'https://www.instagram.com/p/poQC9rP...  \n",
       "1  [{'href': 'https://www.instagram.com/p/pm0kjBy...  \n",
       "2  [{'href': 'https://www.instagram.com/p/pm5mgci...  \n",
       "3  [{'href': 'https://www.instagram.com/p/pm6EV-J...  \n",
       "4  [{'href': 'https://www.instagram.com/p/pms9ONJ...  "
      ]
     },
     "execution_count": 15,
     "metadata": {},
     "output_type": "execute_result"
    }
   ],
   "source": [
    "test2.head()"
   ]
  },
  {
   "cell_type": "code",
   "execution_count": 16,
   "id": "42cff6f7",
   "metadata": {
    "scrolled": true
   },
   "outputs": [
    {
     "data": {
      "text/plain": [
       "[{'href': 'https://www.instagram.com/p/poQC9rP6uN/',\n",
       "  'value': 'ð\\x9f\\x91\\x8d',\n",
       "  'timestamp': 1403618902}]"
      ]
     },
     "execution_count": 16,
     "metadata": {},
     "output_type": "execute_result"
    }
   ],
   "source": [
    "test2['string_list_data'][0]"
   ]
  },
  {
   "cell_type": "code",
   "execution_count": 17,
   "id": "8133a9ac",
   "metadata": {},
   "outputs": [
    {
     "data": {
      "text/plain": [
       "{'href': 'https://www.instagram.com/p/poQC9rP6uN/',\n",
       " 'value': 'ð\\x9f\\x91\\x8d',\n",
       " 'timestamp': 1403618902}"
      ]
     },
     "execution_count": 17,
     "metadata": {},
     "output_type": "execute_result"
    }
   ],
   "source": [
    "test2['string_list_data'][0][0]"
   ]
  },
  {
   "cell_type": "code",
   "execution_count": 18,
   "id": "07dd6af2",
   "metadata": {},
   "outputs": [
    {
     "data": {
      "text/plain": [
       "1403618902"
      ]
     },
     "execution_count": 18,
     "metadata": {},
     "output_type": "execute_result"
    }
   ],
   "source": [
    "test2['string_list_data'][0][0]['timestamp']"
   ]
  },
  {
   "cell_type": "code",
   "execution_count": 19,
   "id": "b0eada4a",
   "metadata": {},
   "outputs": [],
   "source": [
    "timestamps = [x[0]['timestamp'] for x in test2['string_list_data']]"
   ]
  },
  {
   "cell_type": "code",
   "execution_count": null,
   "id": "c563882a",
   "metadata": {},
   "outputs": [],
   "source": [
    "timestamps"
   ]
  },
  {
   "cell_type": "code",
   "execution_count": 21,
   "id": "39d78a4a",
   "metadata": {},
   "outputs": [],
   "source": [
    "test2['timestamp'] = timestamps"
   ]
  },
  {
   "cell_type": "code",
   "execution_count": 22,
   "id": "ca572d85",
   "metadata": {},
   "outputs": [],
   "source": [
    "final_df = test2.drop('string_list_data', axis = 1)"
   ]
  },
  {
   "cell_type": "code",
   "execution_count": 23,
   "id": "3bfb94c7",
   "metadata": {},
   "outputs": [
    {
     "data": {
      "text/html": [
       "<div>\n",
       "<style scoped>\n",
       "    .dataframe tbody tr th:only-of-type {\n",
       "        vertical-align: middle;\n",
       "    }\n",
       "\n",
       "    .dataframe tbody tr th {\n",
       "        vertical-align: top;\n",
       "    }\n",
       "\n",
       "    .dataframe thead th {\n",
       "        text-align: right;\n",
       "    }\n",
       "</style>\n",
       "<table border=\"1\" class=\"dataframe\">\n",
       "  <thead>\n",
       "    <tr style=\"text-align: right;\">\n",
       "      <th></th>\n",
       "      <th>title</th>\n",
       "      <th>media_list_data</th>\n",
       "      <th>timestamp</th>\n",
       "    </tr>\n",
       "  </thead>\n",
       "  <tbody>\n",
       "    <tr>\n",
       "      <th>0</th>\n",
       "      <td>therealcarl0spena</td>\n",
       "      <td>[]</td>\n",
       "      <td>1403618902</td>\n",
       "    </tr>\n",
       "    <tr>\n",
       "      <th>1</th>\n",
       "      <td>godsholyscriptures</td>\n",
       "      <td>[]</td>\n",
       "      <td>1403574102</td>\n",
       "    </tr>\n",
       "    <tr>\n",
       "      <th>2</th>\n",
       "      <td>ashley_phillips_97</td>\n",
       "      <td>[]</td>\n",
       "      <td>1403573869</td>\n",
       "    </tr>\n",
       "    <tr>\n",
       "      <th>3</th>\n",
       "      <td>chancehooper1224</td>\n",
       "      <td>[]</td>\n",
       "      <td>1403572477</td>\n",
       "    </tr>\n",
       "    <tr>\n",
       "      <th>4</th>\n",
       "      <td>chancehooper1224</td>\n",
       "      <td>[]</td>\n",
       "      <td>1403572473</td>\n",
       "    </tr>\n",
       "  </tbody>\n",
       "</table>\n",
       "</div>"
      ],
      "text/plain": [
       "                title media_list_data   timestamp\n",
       "0   therealcarl0spena              []  1403618902\n",
       "1  godsholyscriptures              []  1403574102\n",
       "2  ashley_phillips_97              []  1403573869\n",
       "3    chancehooper1224              []  1403572477\n",
       "4    chancehooper1224              []  1403572473"
      ]
     },
     "execution_count": 23,
     "metadata": {},
     "output_type": "execute_result"
    }
   ],
   "source": [
    "final_df.head()"
   ]
  },
  {
   "cell_type": "code",
   "execution_count": 24,
   "id": "639a8b04",
   "metadata": {},
   "outputs": [
    {
     "data": {
      "text/html": [
       "<div>\n",
       "<style scoped>\n",
       "    .dataframe tbody tr th:only-of-type {\n",
       "        vertical-align: middle;\n",
       "    }\n",
       "\n",
       "    .dataframe tbody tr th {\n",
       "        vertical-align: top;\n",
       "    }\n",
       "\n",
       "    .dataframe thead th {\n",
       "        text-align: right;\n",
       "    }\n",
       "</style>\n",
       "<table border=\"1\" class=\"dataframe\">\n",
       "  <thead>\n",
       "    <tr style=\"text-align: right;\">\n",
       "      <th></th>\n",
       "      <th>title</th>\n",
       "      <th>media_list_data</th>\n",
       "    </tr>\n",
       "    <tr>\n",
       "      <th>timestamp</th>\n",
       "      <th></th>\n",
       "      <th></th>\n",
       "    </tr>\n",
       "  </thead>\n",
       "  <tbody>\n",
       "    <tr>\n",
       "      <th>1496694285</th>\n",
       "      <td>4</td>\n",
       "      <td>4</td>\n",
       "    </tr>\n",
       "    <tr>\n",
       "      <th>1436835404</th>\n",
       "      <td>3</td>\n",
       "      <td>3</td>\n",
       "    </tr>\n",
       "    <tr>\n",
       "      <th>1436835188</th>\n",
       "      <td>3</td>\n",
       "      <td>3</td>\n",
       "    </tr>\n",
       "    <tr>\n",
       "      <th>1436835023</th>\n",
       "      <td>3</td>\n",
       "      <td>3</td>\n",
       "    </tr>\n",
       "    <tr>\n",
       "      <th>1436834957</th>\n",
       "      <td>3</td>\n",
       "      <td>3</td>\n",
       "    </tr>\n",
       "  </tbody>\n",
       "</table>\n",
       "</div>"
      ],
      "text/plain": [
       "            title  media_list_data\n",
       "timestamp                         \n",
       "1496694285      4                4\n",
       "1436835404      3                3\n",
       "1436835188      3                3\n",
       "1436835023      3                3\n",
       "1436834957      3                3"
      ]
     },
     "execution_count": 24,
     "metadata": {},
     "output_type": "execute_result"
    }
   ],
   "source": [
    "final_df.groupby('timestamp').count().sort_values('title', ascending=False).head(5)"
   ]
  },
  {
   "cell_type": "code",
   "execution_count": 25,
   "id": "de5c9eee",
   "metadata": {},
   "outputs": [
    {
     "data": {
      "text/html": [
       "<div>\n",
       "<style scoped>\n",
       "    .dataframe tbody tr th:only-of-type {\n",
       "        vertical-align: middle;\n",
       "    }\n",
       "\n",
       "    .dataframe tbody tr th {\n",
       "        vertical-align: top;\n",
       "    }\n",
       "\n",
       "    .dataframe thead th {\n",
       "        text-align: right;\n",
       "    }\n",
       "</style>\n",
       "<table border=\"1\" class=\"dataframe\">\n",
       "  <thead>\n",
       "    <tr style=\"text-align: right;\">\n",
       "      <th></th>\n",
       "      <th>media_list_data</th>\n",
       "      <th>timestamp</th>\n",
       "    </tr>\n",
       "    <tr>\n",
       "      <th>title</th>\n",
       "      <th></th>\n",
       "      <th></th>\n",
       "    </tr>\n",
       "  </thead>\n",
       "  <tbody>\n",
       "    <tr>\n",
       "      <th>fallinginsociety</th>\n",
       "      <td>1402</td>\n",
       "      <td>1402</td>\n",
       "    </tr>\n",
       "    <tr>\n",
       "      <th>shawnmendes</th>\n",
       "      <td>943</td>\n",
       "      <td>943</td>\n",
       "    </tr>\n",
       "    <tr>\n",
       "      <th>fuhkology</th>\n",
       "      <td>830</td>\n",
       "      <td>830</td>\n",
       "    </tr>\n",
       "    <tr>\n",
       "      <th>godsholyscriptures</th>\n",
       "      <td>758</td>\n",
       "      <td>758</td>\n",
       "    </tr>\n",
       "    <tr>\n",
       "      <th>chancehooper1224</th>\n",
       "      <td>590</td>\n",
       "      <td>590</td>\n",
       "    </tr>\n",
       "    <tr>\n",
       "      <th>instagod</th>\n",
       "      <td>573</td>\n",
       "      <td>573</td>\n",
       "    </tr>\n",
       "    <tr>\n",
       "      <th>holy</th>\n",
       "      <td>512</td>\n",
       "      <td>512</td>\n",
       "    </tr>\n",
       "    <tr>\n",
       "      <th>bviral</th>\n",
       "      <td>488</td>\n",
       "      <td>488</td>\n",
       "    </tr>\n",
       "    <tr>\n",
       "      <th>godcaresbro</th>\n",
       "      <td>444</td>\n",
       "      <td>444</td>\n",
       "    </tr>\n",
       "    <tr>\n",
       "      <th>3.1415926535897932384626433832</th>\n",
       "      <td>429</td>\n",
       "      <td>429</td>\n",
       "    </tr>\n",
       "    <tr>\n",
       "      <th>perfectsayings</th>\n",
       "      <td>426</td>\n",
       "      <td>426</td>\n",
       "    </tr>\n",
       "    <tr>\n",
       "      <th>mlb</th>\n",
       "      <td>396</td>\n",
       "      <td>396</td>\n",
       "    </tr>\n",
       "    <tr>\n",
       "      <th>hellomallomar</th>\n",
       "      <td>395</td>\n",
       "      <td>395</td>\n",
       "    </tr>\n",
       "    <tr>\n",
       "      <th>epicfunnypage</th>\n",
       "      <td>369</td>\n",
       "      <td>369</td>\n",
       "    </tr>\n",
       "    <tr>\n",
       "      <th>jesus_the_lord_</th>\n",
       "      <td>360</td>\n",
       "      <td>360</td>\n",
       "    </tr>\n",
       "    <tr>\n",
       "      <th>cohmedy</th>\n",
       "      <td>350</td>\n",
       "      <td>350</td>\n",
       "    </tr>\n",
       "    <tr>\n",
       "      <th>hoenest</th>\n",
       "      <td>341</td>\n",
       "      <td>341</td>\n",
       "    </tr>\n",
       "    <tr>\n",
       "      <th>poemsvibe</th>\n",
       "      <td>339</td>\n",
       "      <td>339</td>\n",
       "    </tr>\n",
       "    <tr>\n",
       "      <th>ifunnymeme</th>\n",
       "      <td>331</td>\n",
       "      <td>331</td>\n",
       "    </tr>\n",
       "    <tr>\n",
       "      <th>factsdailyy</th>\n",
       "      <td>330</td>\n",
       "      <td>330</td>\n",
       "    </tr>\n",
       "    <tr>\n",
       "      <th>noteforself</th>\n",
       "      <td>329</td>\n",
       "      <td>329</td>\n",
       "    </tr>\n",
       "    <tr>\n",
       "      <th>advice</th>\n",
       "      <td>326</td>\n",
       "      <td>326</td>\n",
       "    </tr>\n",
       "    <tr>\n",
       "      <th>landoffloof</th>\n",
       "      <td>304</td>\n",
       "      <td>304</td>\n",
       "    </tr>\n",
       "    <tr>\n",
       "      <th>girlzology</th>\n",
       "      <td>300</td>\n",
       "      <td>300</td>\n",
       "    </tr>\n",
       "    <tr>\n",
       "      <th>daily_bibleverses</th>\n",
       "      <td>296</td>\n",
       "      <td>296</td>\n",
       "    </tr>\n",
       "    <tr>\n",
       "      <th>dailyteensfeed</th>\n",
       "      <td>292</td>\n",
       "      <td>292</td>\n",
       "    </tr>\n",
       "    <tr>\n",
       "      <th>thedogist</th>\n",
       "      <td>290</td>\n",
       "      <td>290</td>\n",
       "    </tr>\n",
       "    <tr>\n",
       "      <th>sarcasm_only</th>\n",
       "      <td>288</td>\n",
       "      <td>288</td>\n",
       "    </tr>\n",
       "    <tr>\n",
       "      <th>sportscenter</th>\n",
       "      <td>283</td>\n",
       "      <td>283</td>\n",
       "    </tr>\n",
       "    <tr>\n",
       "      <th>skaterpam</th>\n",
       "      <td>281</td>\n",
       "      <td>281</td>\n",
       "    </tr>\n",
       "  </tbody>\n",
       "</table>\n",
       "</div>"
      ],
      "text/plain": [
       "                                media_list_data  timestamp\n",
       "title                                                     \n",
       "fallinginsociety                           1402       1402\n",
       "shawnmendes                                 943        943\n",
       "fuhkology                                   830        830\n",
       "godsholyscriptures                          758        758\n",
       "chancehooper1224                            590        590\n",
       "instagod                                    573        573\n",
       "holy                                        512        512\n",
       "bviral                                      488        488\n",
       "godcaresbro                                 444        444\n",
       "3.1415926535897932384626433832              429        429\n",
       "perfectsayings                              426        426\n",
       "mlb                                         396        396\n",
       "hellomallomar                               395        395\n",
       "epicfunnypage                               369        369\n",
       "jesus_the_lord_                             360        360\n",
       "cohmedy                                     350        350\n",
       "hoenest                                     341        341\n",
       "poemsvibe                                   339        339\n",
       "ifunnymeme                                  331        331\n",
       "factsdailyy                                 330        330\n",
       "noteforself                                 329        329\n",
       "advice                                      326        326\n",
       "landoffloof                                 304        304\n",
       "girlzology                                  300        300\n",
       "daily_bibleverses                           296        296\n",
       "dailyteensfeed                              292        292\n",
       "thedogist                                   290        290\n",
       "sarcasm_only                                288        288\n",
       "sportscenter                                283        283\n",
       "skaterpam                                   281        281"
      ]
     },
     "execution_count": 25,
     "metadata": {},
     "output_type": "execute_result"
    }
   ],
   "source": [
    "final_df.groupby('title').count().sort_values('timestamp', ascending=False).head(30)"
   ]
  },
  {
   "cell_type": "markdown",
   "id": "ff27f609",
   "metadata": {},
   "source": [
    "Instagram collected this data to be able to find out which users I liked the most and which user data to show me. As well as similar user data that I might be interested in since I liked a certain product or user. "
   ]
  },
  {
   "cell_type": "markdown",
   "id": "17bfff70",
   "metadata": {},
   "source": [
    "This data is reliable because it is based upon facts and trends that visually and statistically show which users' posts I liked the most. "
   ]
  },
  {
   "cell_type": "markdown",
   "id": "7dd075ee",
   "metadata": {},
   "source": [
    "This data can also be unreliable, because it is from my entire history and time I have spent on Instagram. It is not recent data. It is also biased by just being about my likes and the users I interacted with. "
   ]
  },
  {
   "cell_type": "markdown",
   "id": "799b4ebc",
   "metadata": {},
   "source": [
    "In Conclusion, my hypothese was right and has proven that I was more active on Instagram when I was younger versus recently. My data shows this by showing me my top likes of each user and a lot of the users mentioned, I do not even follow anymore and or remember much about them. I was suprised to see that not many dog pages were mentioned as I love dogs and I was surprised that many religious based accounts were ranked within the top 30. I am not surprised that Shawn Mendes was my most second liked user. He was and still is one of my favorite artists.I also find it very interesting that within the top 30, not a lot of friends or family members were mentioned. It makes me wonder if they didn't post much, or if I just didn't see it because I was shown other posts and other users based upon how often I liked their content of their accounts. "
   ]
  }
 ],
 "metadata": {
  "kernelspec": {
   "display_name": "Python 3 (ipykernel)",
   "language": "python",
   "name": "python3"
  },
  "language_info": {
   "codemirror_mode": {
    "name": "ipython",
    "version": 3
   },
   "file_extension": ".py",
   "mimetype": "text/x-python",
   "name": "python",
   "nbconvert_exporter": "python",
   "pygments_lexer": "ipython3",
   "version": "3.9.12"
  }
 },
 "nbformat": 4,
 "nbformat_minor": 5
}
