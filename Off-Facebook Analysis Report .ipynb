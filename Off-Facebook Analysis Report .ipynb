{
 "cells": [
  {
   "cell_type": "markdown",
   "id": "1071e53c",
   "metadata": {},
   "source": [
    "# Off- Facebook Analysis and Spotify Data Report\n",
    "## By: Rebecca Haywood\n",
    "### 11/25/2022"
   ]
  },
  {
   "cell_type": "markdown",
   "id": "bf3f97db",
   "metadata": {},
   "source": [
    "### Part 1:"
   ]
  },
  {
   "cell_type": "markdown",
   "id": "4416825c",
   "metadata": {},
   "source": [
    "importing all necessary components to graph and display data and accessing my off- facebook activity json file and other components to access the spotify data.  "
   ]
  },
  {
   "cell_type": "code",
   "execution_count": 457,
   "id": "6e28ea84",
   "metadata": {},
   "outputs": [],
   "source": [
    "import pandas as pd\n",
    "import json\n",
    "import numpy as np\n",
    "from matplotlib import pyplot as plt\n",
    "from scipy import stats\n",
    "import base64\n",
    "import requests"
   ]
  },
  {
   "cell_type": "markdown",
   "id": "0b03cbc0",
   "metadata": {},
   "source": []
  },
  {
   "cell_type": "code",
   "execution_count": 458,
   "id": "4b8a1315",
   "metadata": {},
   "outputs": [],
   "source": [
    "with open(r\"C:\\Users\\footb\\Data Fa22\\facebook-100006922636969\\apps_and_websites_off_of_facebook\\your_off-facebook_activity.json\") as j:\n",
    "    your_off_facebook_activity = json.load(j)\n"
   ]
  },
  {
   "cell_type": "markdown",
   "id": "721fbd25",
   "metadata": {},
   "source": [
    "Setting up data frame structure and testing out the structure. "
   ]
  },
  {
   "cell_type": "code",
   "execution_count": 459,
   "id": "07229b9a",
   "metadata": {},
   "outputs": [],
   "source": [
    "your_off_facebook_activity_df = pd.DataFrame({'a': [1, 2, 3], 'b': [4, 5, 6], 'c': [7, 8, 9]})"
   ]
  },
  {
   "cell_type": "code",
   "execution_count": 460,
   "id": "ceb04e8b",
   "metadata": {},
   "outputs": [
    {
     "data": {
      "text/html": [
       "<div>\n",
       "<style scoped>\n",
       "    .dataframe tbody tr th:only-of-type {\n",
       "        vertical-align: middle;\n",
       "    }\n",
       "\n",
       "    .dataframe tbody tr th {\n",
       "        vertical-align: top;\n",
       "    }\n",
       "\n",
       "    .dataframe thead th {\n",
       "        text-align: right;\n",
       "    }\n",
       "</style>\n",
       "<table border=\"1\" class=\"dataframe\">\n",
       "  <thead>\n",
       "    <tr style=\"text-align: right;\">\n",
       "      <th></th>\n",
       "      <th>a</th>\n",
       "      <th>b</th>\n",
       "      <th>c</th>\n",
       "    </tr>\n",
       "  </thead>\n",
       "  <tbody>\n",
       "    <tr>\n",
       "      <th>0</th>\n",
       "      <td>1</td>\n",
       "      <td>4</td>\n",
       "      <td>7</td>\n",
       "    </tr>\n",
       "    <tr>\n",
       "      <th>1</th>\n",
       "      <td>2</td>\n",
       "      <td>5</td>\n",
       "      <td>8</td>\n",
       "    </tr>\n",
       "    <tr>\n",
       "      <th>2</th>\n",
       "      <td>3</td>\n",
       "      <td>6</td>\n",
       "      <td>9</td>\n",
       "    </tr>\n",
       "  </tbody>\n",
       "</table>\n",
       "</div>"
      ],
      "text/plain": [
       "   a  b  c\n",
       "0  1  4  7\n",
       "1  2  5  8\n",
       "2  3  6  9"
      ]
     },
     "execution_count": 460,
     "metadata": {},
     "output_type": "execute_result"
    }
   ],
   "source": [
    "your_off_facebook_activity_df"
   ]
  },
  {
   "cell_type": "markdown",
   "id": "d1933896",
   "metadata": {},
   "source": [
    "Before loading the data, I hypothesize that the most frequent apps I have used are Spotify, other social medias (such as Snapchat, Twitter, TikTok and Instagram) and the Canvas app. I chose these apps, because these are the most frequent apps I use on my phone. I know that Instagram is connected to Facebook so I assume that my Instagram data will be featured. In terms of websites, my searches are so sporadic based upon what comes to my mind and when so I assume that random google searches will be included. I know that I've used Amazon a lot recently so I think that that data will be featured. Other websites I think that will be included are my clock-in website I use for work since I use that quite frequently."
   ]
  },
  {
   "cell_type": "markdown",
   "id": "365ca1d6",
   "metadata": {},
   "source": [
    "Loaded facebook activity with site names and actions. "
   ]
  },
  {
   "cell_type": "code",
   "execution_count": null,
   "id": "1316a93f",
   "metadata": {
    "scrolled": false
   },
   "outputs": [],
   "source": [
    "your_off_facebook_activity"
   ]
  },
  {
   "cell_type": "markdown",
   "id": "9e0a4a40",
   "metadata": {},
   "source": [
    "Renaming dataframe as test1 and testing it."
   ]
  },
  {
   "cell_type": "code",
   "execution_count": 462,
   "id": "fbdb9ef3",
   "metadata": {},
   "outputs": [],
   "source": [
    "test1 = pd.DataFrame(your_off_facebook_activity)"
   ]
  },
  {
   "cell_type": "code",
   "execution_count": 463,
   "id": "f32c24dc",
   "metadata": {},
   "outputs": [
    {
     "data": {
      "text/html": [
       "<div>\n",
       "<style scoped>\n",
       "    .dataframe tbody tr th:only-of-type {\n",
       "        vertical-align: middle;\n",
       "    }\n",
       "\n",
       "    .dataframe tbody tr th {\n",
       "        vertical-align: top;\n",
       "    }\n",
       "\n",
       "    .dataframe thead th {\n",
       "        text-align: right;\n",
       "    }\n",
       "</style>\n",
       "<table border=\"1\" class=\"dataframe\">\n",
       "  <thead>\n",
       "    <tr style=\"text-align: right;\">\n",
       "      <th></th>\n",
       "      <th>off_facebook_activity_v2</th>\n",
       "    </tr>\n",
       "  </thead>\n",
       "  <tbody>\n",
       "    <tr>\n",
       "      <th>0</th>\n",
       "      <td>{'name': 'torrid.com', 'events': [{'id': 28349...</td>\n",
       "    </tr>\n",
       "    <tr>\n",
       "      <th>1</th>\n",
       "      <td>{'name': 'gianteagle.com', 'events': [{'id': 6...</td>\n",
       "    </tr>\n",
       "    <tr>\n",
       "      <th>2</th>\n",
       "      <td>{'name': 'BAM', 'events': [{'id': 709002776145...</td>\n",
       "    </tr>\n",
       "    <tr>\n",
       "      <th>3</th>\n",
       "      <td>{'name': 'OMG', 'events': [{'id': 455676461606...</td>\n",
       "    </tr>\n",
       "    <tr>\n",
       "      <th>4</th>\n",
       "      <td>{'name': 'subaru.com', 'events': [{'id': 14492...</td>\n",
       "    </tr>\n",
       "  </tbody>\n",
       "</table>\n",
       "</div>"
      ],
      "text/plain": [
       "                            off_facebook_activity_v2\n",
       "0  {'name': 'torrid.com', 'events': [{'id': 28349...\n",
       "1  {'name': 'gianteagle.com', 'events': [{'id': 6...\n",
       "2  {'name': 'BAM', 'events': [{'id': 709002776145...\n",
       "3  {'name': 'OMG', 'events': [{'id': 455676461606...\n",
       "4  {'name': 'subaru.com', 'events': [{'id': 14492..."
      ]
     },
     "execution_count": 463,
     "metadata": {},
     "output_type": "execute_result"
    }
   ],
   "source": [
    "test1.head()"
   ]
  },
  {
   "cell_type": "markdown",
   "id": "844789f7",
   "metadata": {},
   "source": [
    "Accessing the data specifically in the off_facebook_activity_v2 category, renaming the data as test2 and testing it. "
   ]
  },
  {
   "cell_type": "code",
   "execution_count": 464,
   "id": "f3dfbda3",
   "metadata": {},
   "outputs": [],
   "source": [
    "test2 = pd.DataFrame(your_off_facebook_activity['off_facebook_activity_v2'])"
   ]
  },
  {
   "cell_type": "markdown",
   "id": "4e10dcde",
   "metadata": {},
   "source": [
    "Data within off_facebook_activity_v2 category is shown below."
   ]
  },
  {
   "cell_type": "code",
   "execution_count": 465,
   "id": "78fca713",
   "metadata": {},
   "outputs": [
    {
     "data": {
      "text/html": [
       "<div>\n",
       "<style scoped>\n",
       "    .dataframe tbody tr th:only-of-type {\n",
       "        vertical-align: middle;\n",
       "    }\n",
       "\n",
       "    .dataframe tbody tr th {\n",
       "        vertical-align: top;\n",
       "    }\n",
       "\n",
       "    .dataframe thead th {\n",
       "        text-align: right;\n",
       "    }\n",
       "</style>\n",
       "<table border=\"1\" class=\"dataframe\">\n",
       "  <thead>\n",
       "    <tr style=\"text-align: right;\">\n",
       "      <th></th>\n",
       "      <th>name</th>\n",
       "      <th>events</th>\n",
       "    </tr>\n",
       "  </thead>\n",
       "  <tbody>\n",
       "    <tr>\n",
       "      <th>0</th>\n",
       "      <td>torrid.com</td>\n",
       "      <td>[{'id': 283492242055251, 'type': 'ADD_TO_CART'...</td>\n",
       "    </tr>\n",
       "    <tr>\n",
       "      <th>1</th>\n",
       "      <td>gianteagle.com</td>\n",
       "      <td>[{'id': 653686881799355, 'type': 'VIEW_CONTENT...</td>\n",
       "    </tr>\n",
       "    <tr>\n",
       "      <th>2</th>\n",
       "      <td>BAM</td>\n",
       "      <td>[{'id': 709002776145083, 'type': 'CUSTOM', 'ti...</td>\n",
       "    </tr>\n",
       "    <tr>\n",
       "      <th>3</th>\n",
       "      <td>OMG</td>\n",
       "      <td>[{'id': 455676461606571, 'type': 'CUSTOM', 'ti...</td>\n",
       "    </tr>\n",
       "    <tr>\n",
       "      <th>4</th>\n",
       "      <td>subaru.com</td>\n",
       "      <td>[{'id': 144927317451189, 'type': 'PAGE_VIEW', ...</td>\n",
       "    </tr>\n",
       "  </tbody>\n",
       "</table>\n",
       "</div>"
      ],
      "text/plain": [
       "             name                                             events\n",
       "0      torrid.com  [{'id': 283492242055251, 'type': 'ADD_TO_CART'...\n",
       "1  gianteagle.com  [{'id': 653686881799355, 'type': 'VIEW_CONTENT...\n",
       "2             BAM  [{'id': 709002776145083, 'type': 'CUSTOM', 'ti...\n",
       "3             OMG  [{'id': 455676461606571, 'type': 'CUSTOM', 'ti...\n",
       "4      subaru.com  [{'id': 144927317451189, 'type': 'PAGE_VIEW', ..."
      ]
     },
     "execution_count": 465,
     "metadata": {},
     "output_type": "execute_result"
    }
   ],
   "source": [
    "test2.head()"
   ]
  },
  {
   "cell_type": "markdown",
   "id": "5a71ad13",
   "metadata": {},
   "source": [
    "Counting the number of events or times that each site or app was tracked through my off facebook activity. "
   ]
  },
  {
   "cell_type": "code",
   "execution_count": 466,
   "id": "4d751416",
   "metadata": {
    "scrolled": true
   },
   "outputs": [],
   "source": [
    "events = [ len(x) for x in test2['events']]"
   ]
  },
  {
   "cell_type": "markdown",
   "id": "5c4a4505",
   "metadata": {},
   "source": [
    "labeling counts as events."
   ]
  },
  {
   "cell_type": "code",
   "execution_count": 467,
   "id": "dd27f6d5",
   "metadata": {},
   "outputs": [],
   "source": [
    "test2['counts'] = events"
   ]
  },
  {
   "cell_type": "markdown",
   "id": "f58eac46",
   "metadata": {},
   "source": [
    "testing test 2 to see the number of counts per site."
   ]
  },
  {
   "cell_type": "code",
   "execution_count": null,
   "id": "33771b71",
   "metadata": {
    "scrolled": true
   },
   "outputs": [],
   "source": [
    "test2"
   ]
  },
  {
   "cell_type": "markdown",
   "id": "e8939288",
   "metadata": {},
   "source": [
    "Having the data frame list the top 20 sites that had the most counts in total. "
   ]
  },
  {
   "cell_type": "code",
   "execution_count": null,
   "id": "ba43da9f",
   "metadata": {
    "scrolled": true
   },
   "outputs": [],
   "source": [
    "test2.sort_values('counts', ascending = False).head(20)"
   ]
  },
  {
   "cell_type": "markdown",
   "id": "b84edc1e",
   "metadata": {},
   "source": [
    "From the data frame, dropping the events information and setting the axis size to 1."
   ]
  },
  {
   "cell_type": "code",
   "execution_count": 470,
   "id": "1f8672d1",
   "metadata": {},
   "outputs": [],
   "source": [
    "final_df = test2.drop('events', axis = 1)"
   ]
  },
  {
   "cell_type": "markdown",
   "id": "577d99cc",
   "metadata": {},
   "source": [
    "Displays the final data frame with the names of the top 20 sites and counts. "
   ]
  },
  {
   "cell_type": "code",
   "execution_count": 471,
   "id": "2c293092",
   "metadata": {},
   "outputs": [
    {
     "data": {
      "text/html": [
       "<div>\n",
       "<style scoped>\n",
       "    .dataframe tbody tr th:only-of-type {\n",
       "        vertical-align: middle;\n",
       "    }\n",
       "\n",
       "    .dataframe tbody tr th {\n",
       "        vertical-align: top;\n",
       "    }\n",
       "\n",
       "    .dataframe thead th {\n",
       "        text-align: right;\n",
       "    }\n",
       "</style>\n",
       "<table border=\"1\" class=\"dataframe\">\n",
       "  <thead>\n",
       "    <tr style=\"text-align: right;\">\n",
       "      <th></th>\n",
       "      <th>name</th>\n",
       "      <th>counts</th>\n",
       "    </tr>\n",
       "  </thead>\n",
       "  <tbody>\n",
       "    <tr>\n",
       "      <th>57</th>\n",
       "      <td>etsy.com</td>\n",
       "      <td>107</td>\n",
       "    </tr>\n",
       "    <tr>\n",
       "      <th>415</th>\n",
       "      <td>petsuppliesplus.com</td>\n",
       "      <td>83</td>\n",
       "    </tr>\n",
       "    <tr>\n",
       "      <th>295</th>\n",
       "      <td>celtx.com</td>\n",
       "      <td>82</td>\n",
       "    </tr>\n",
       "    <tr>\n",
       "      <th>15</th>\n",
       "      <td>shopwhitetree.com</td>\n",
       "      <td>80</td>\n",
       "    </tr>\n",
       "    <tr>\n",
       "      <th>103</th>\n",
       "      <td>petsmart.com</td>\n",
       "      <td>72</td>\n",
       "    </tr>\n",
       "    <tr>\n",
       "      <th>1</th>\n",
       "      <td>gianteagle.com</td>\n",
       "      <td>54</td>\n",
       "    </tr>\n",
       "    <tr>\n",
       "      <th>35</th>\n",
       "      <td>walgreens.com</td>\n",
       "      <td>50</td>\n",
       "    </tr>\n",
       "    <tr>\n",
       "      <th>243</th>\n",
       "      <td>quizlet.com</td>\n",
       "      <td>48</td>\n",
       "    </tr>\n",
       "    <tr>\n",
       "      <th>122</th>\n",
       "      <td>chewy.com</td>\n",
       "      <td>44</td>\n",
       "    </tr>\n",
       "    <tr>\n",
       "      <th>474</th>\n",
       "      <td>hottopic.com</td>\n",
       "      <td>41</td>\n",
       "    </tr>\n",
       "    <tr>\n",
       "      <th>19</th>\n",
       "      <td>adobe.com</td>\n",
       "      <td>40</td>\n",
       "    </tr>\n",
       "    <tr>\n",
       "      <th>87</th>\n",
       "      <td>cru.org</td>\n",
       "      <td>36</td>\n",
       "    </tr>\n",
       "    <tr>\n",
       "      <th>119</th>\n",
       "      <td>Best Buy</td>\n",
       "      <td>34</td>\n",
       "    </tr>\n",
       "    <tr>\n",
       "      <th>3</th>\n",
       "      <td>OMG</td>\n",
       "      <td>31</td>\n",
       "    </tr>\n",
       "    <tr>\n",
       "      <th>181</th>\n",
       "      <td>tripadvisor.com</td>\n",
       "      <td>31</td>\n",
       "    </tr>\n",
       "    <tr>\n",
       "      <th>339</th>\n",
       "      <td>Chewy</td>\n",
       "      <td>28</td>\n",
       "    </tr>\n",
       "    <tr>\n",
       "      <th>104</th>\n",
       "      <td>Petsmart, Inc.</td>\n",
       "      <td>28</td>\n",
       "    </tr>\n",
       "    <tr>\n",
       "      <th>312</th>\n",
       "      <td>Kohl's</td>\n",
       "      <td>27</td>\n",
       "    </tr>\n",
       "    <tr>\n",
       "      <th>187</th>\n",
       "      <td>tlcpetfood.com</td>\n",
       "      <td>23</td>\n",
       "    </tr>\n",
       "    <tr>\n",
       "      <th>28</th>\n",
       "      <td>Walgreens</td>\n",
       "      <td>23</td>\n",
       "    </tr>\n",
       "  </tbody>\n",
       "</table>\n",
       "</div>"
      ],
      "text/plain": [
       "                    name  counts\n",
       "57              etsy.com     107\n",
       "415  petsuppliesplus.com      83\n",
       "295            celtx.com      82\n",
       "15     shopwhitetree.com      80\n",
       "103         petsmart.com      72\n",
       "1         gianteagle.com      54\n",
       "35         walgreens.com      50\n",
       "243          quizlet.com      48\n",
       "122            chewy.com      44\n",
       "474         hottopic.com      41\n",
       "19             adobe.com      40\n",
       "87               cru.org      36\n",
       "119             Best Buy      34\n",
       "3                    OMG      31\n",
       "181      tripadvisor.com      31\n",
       "339                Chewy      28\n",
       "104       Petsmart, Inc.      28\n",
       "312               Kohl's      27\n",
       "187       tlcpetfood.com      23\n",
       "28             Walgreens      23"
      ]
     },
     "execution_count": 471,
     "metadata": {},
     "output_type": "execute_result"
    }
   ],
   "source": [
    "final_df.sort_values('counts', ascending = False).head(20)"
   ]
  },
  {
   "cell_type": "code",
   "execution_count": 472,
   "id": "2c06192a",
   "metadata": {},
   "outputs": [],
   "source": [
    "final_df1=final_df.sort_values('counts', ascending = False).head(20)"
   ]
  },
  {
   "cell_type": "markdown",
   "id": "e4c4133e",
   "metadata": {},
   "source": [
    "#### Setting up a histogram to display the data of the number of counts on top 20 sites and how often they occurred"
   ]
  },
  {
   "cell_type": "code",
   "execution_count": 473,
   "id": "97cd9803",
   "metadata": {},
   "outputs": [
    {
     "data": {
      "image/png": "[encoded data removed]",
      "text/plain": [
       "<Figure size 432x288 with 1 Axes>"
      ]
     },
     "metadata": {
      "needs_background": "light"
     },
     "output_type": "display_data"
    }
   ],
   "source": [
    "final_df1['counts'].plot.hist()\n",
    "plt.ylabel('Frequency of counts')\n",
    "plt.xlabel('Number of counts')\n",
    "plt.title('Relationship between number of counts on top 20 sites and how often they occured')\n",
    "plt.show()"
   ]
  },
  {
   "cell_type": "markdown",
   "id": "30f85aff",
   "metadata": {},
   "source": [
    "From the data of the histogram that it displays, I believe that it is a little confusing. The y-axis is labeled as the number of counts so that means that the 7 of the top 20 had been visited between 23-31 times. The x- axis is labeled as the number of counts which means how many counts in total.The x axis is numbered from 20-100. 20 is the smallest in this data set and 107 is the largest in this data set. The y-axis is numbered from 0-7 to represent the number of times or frequency out of the 20 sites how many sites were visited between certain numbers. A way to make this data set more clear, bar lines would be helpful as well as specific grouping of what the groups are. I only made inferences it is not 100% certain where the lines fall. "
   ]
  },
  {
   "cell_type": "markdown",
   "id": "79eb677c",
   "metadata": {},
   "source": [
    "The bar graph better displays the data as the lines are clearer as well as the groupings of data are more concrete. "
   ]
  },
  {
   "cell_type": "markdown",
   "id": "6f23f7f9",
   "metadata": {},
   "source": [
    "This graph lists the names of the sites and the number of counts per site. The x axis ticks are rotated 90 degrees so it is easier to read. "
   ]
  },
  {
   "cell_type": "markdown",
   "id": "efd0f343",
   "metadata": {},
   "source": [
    "#### Set up of bar graph to demonstrate the relationship between the number of counts on top 20 sites and how often they occurred"
   ]
  },
  {
   "cell_type": "code",
   "execution_count": 474,
   "id": "1b0f35bb",
   "metadata": {},
   "outputs": [
    {
     "data": {
      "image/png": "[encoded data removed]",
      "text/plain": [
       "<Figure size 432x288 with 1 Axes>"
      ]
     },
     "metadata": {
      "needs_background": "light"
     },
     "output_type": "display_data"
    }
   ],
   "source": [
    "final_df1.plot.bar('name')\n",
    "plt.xlabel('Name of Site')\n",
    "plt.ylabel('Number of Counts')\n",
    "plt.title('Relationship between number of counts on top 20 sites and how often they occurred')\n",
    "plt.xticks(rotation = 90)\n",
    "plt.show()"
   ]
  },
  {
   "cell_type": "markdown",
   "id": "ccdc77fc",
   "metadata": {},
   "source": [
    "From this graph I can conclude that the top 20 sites are mostly shopping or merchandise based websites. There were not any apps that were listed. From these results my ads I see on Facebook now make a lot more sense since Facebook is tracking some of my website activity. "
   ]
  },
  {
   "cell_type": "markdown",
   "id": "650bb72b",
   "metadata": {},
   "source": [
    "I believe that Facebook would also conclude the same analysis. They would agree and be able to explain that the ads are see on Facebook are based upon other sites I visit outside of Facebook. "
   ]
  },
  {
   "cell_type": "markdown",
   "id": "e1db78a5",
   "metadata": {},
   "source": [
    "I have a lot of questions from this data such as: \n",
    "1. How are the sites tracked?\n",
    "2. How is it determined what sites are tracked and which ones are not?\n",
    "3. Are these statistics based upon ads that I have clicked on Facebook and then further investigated outside of Facebook? \n",
    "4. I clicked on an ad and it took me to etsy. Is that how it is tracked?\n",
    "5. How can I turn this feature off?\n",
    "6. I am curious as to when I turn this feature off, how it will affect my ads."
   ]
  },
  {
   "cell_type": "markdown",
   "id": "5438fa9c",
   "metadata": {},
   "source": [
    "### Part 2:"
   ]
  },
  {
   "cell_type": "markdown",
   "id": "09205ac5",
   "metadata": {},
   "source": [
    "These cells access the Spotify Keys document that contains the client ID and the client secret. "
   ]
  },
  {
   "cell_type": "code",
   "execution_count": 475,
   "id": "475a6b89",
   "metadata": {},
   "outputs": [],
   "source": [
    "keys = pd.read_csv(\"Spotify-Keys.txt\", header = 0, sep = \",\")"
   ]
  },
  {
   "cell_type": "code",
   "execution_count": 476,
   "id": "2542fbc0",
   "metadata": {},
   "outputs": [],
   "source": [
    "appid = keys['Client_ID'][0]"
   ]
  },
  {
   "cell_type": "code",
   "execution_count": 477,
   "id": "793d886a",
   "metadata": {},
   "outputs": [],
   "source": [
    "appsecret = keys['Client_Secret'][0]"
   ]
  },
  {
   "cell_type": "markdown",
   "id": "2e36515a",
   "metadata": {},
   "source": [
    "These cells access the client cred, session token and access token."
   ]
  },
  {
   "cell_type": "code",
   "execution_count": 478,
   "id": "55a5d486",
   "metadata": {},
   "outputs": [],
   "source": [
    "client_cred = base64.b64encode(str(appid + \":\" + appsecret).encode('ascii'))"
   ]
  },
  {
   "cell_type": "code",
   "execution_count": 479,
   "id": "4da1c895",
   "metadata": {},
   "outputs": [],
   "source": [
    "header = {'Authorization': 'Basic {}'.format(client_cred.decode('ascii'))}"
   ]
  },
  {
   "cell_type": "code",
   "execution_count": 480,
   "id": "7814b9bd",
   "metadata": {},
   "outputs": [],
   "source": [
    "payload = {'grant_type' : 'client_credentials'}\n",
    "access_token_url = \"https://accounts.spotify.com/api/token\""
   ]
  },
  {
   "cell_type": "code",
   "execution_count": 481,
   "id": "aa8e5c44",
   "metadata": {},
   "outputs": [],
   "source": [
    "response = requests.post(access_token_url, headers = header, data = payload)"
   ]
  },
  {
   "cell_type": "code",
   "execution_count": 482,
   "id": "b38a1461",
   "metadata": {},
   "outputs": [],
   "source": [
    "session_token = response.json()['access_token']"
   ]
  },
  {
   "cell_type": "code",
   "execution_count": 483,
   "id": "0a1c4668",
   "metadata": {},
   "outputs": [],
   "source": [
    "session_header = {'Authorization': 'Bearer {}'.format(response.json()['access_token'])}"
   ]
  },
  {
   "cell_type": "markdown",
   "id": "17f9f598",
   "metadata": {},
   "source": [
    "This next code cell lists the Dearly Beloved album id."
   ]
  },
  {
   "cell_type": "code",
   "execution_count": 484,
   "id": "30069352",
   "metadata": {},
   "outputs": [],
   "source": [
    "DearlyBeloved_id = '2jVZ3Iqj1wSQE8d8khM9Pi'"
   ]
  },
  {
   "cell_type": "markdown",
   "id": "4ecefd14",
   "metadata": {},
   "source": [
    "I chose Dearly Beloved which is an album by Daughtry. I chose this album because a lot of these songs are inspiring and empowering. I love driving with my windows down to this album just belting it! Fun Fact: My mom and I also went to see Daughtry in concert and this is the album he performed. This album specifically now holds a special memory in my heart. "
   ]
  },
  {
   "cell_type": "code",
   "execution_count": 485,
   "id": "d1947500",
   "metadata": {},
   "outputs": [],
   "source": [
    "album_tracks_endpoint = \"https://api.spotify.com/v1/albums/{}/tracks\".format(DearlyBeloved_id)"
   ]
  },
  {
   "cell_type": "markdown",
   "id": "4256d340",
   "metadata": {},
   "source": [
    "The next few cells are requesting the track information as well as the cells start to gather the data of the track ids."
   ]
  },
  {
   "cell_type": "code",
   "execution_count": 486,
   "id": "cd35abde",
   "metadata": {},
   "outputs": [],
   "source": [
    "DearlyBeloved_tracks = requests.get(album_tracks_endpoint, headers = session_header)"
   ]
  },
  {
   "cell_type": "code",
   "execution_count": 487,
   "id": "75b6ee2a",
   "metadata": {},
   "outputs": [],
   "source": [
    "DearlyBeloved_dict = json.loads(DearlyBeloved_tracks.text)"
   ]
  },
  {
   "cell_type": "code",
   "execution_count": 488,
   "id": "7eeb2767",
   "metadata": {},
   "outputs": [
    {
     "data": {
      "text/plain": [
       "200"
      ]
     },
     "execution_count": 488,
     "metadata": {},
     "output_type": "execute_result"
    }
   ],
   "source": [
    "DearlyBeloved_tracks.status_code"
   ]
  },
  {
   "cell_type": "code",
   "execution_count": 489,
   "id": "c4b16675",
   "metadata": {},
   "outputs": [],
   "source": [
    "DearlyBeloved_track_ids = [x['id'] for x in DearlyBeloved_dict['items']]"
   ]
  },
  {
   "cell_type": "code",
   "execution_count": 490,
   "id": "72347aa2",
   "metadata": {},
   "outputs": [
    {
     "data": {
      "text/plain": [
       "['5hvGpBhg1C3ECsKn9UMEAc',\n",
       " '7ufw2AvrztmY9Y8pU41FfK',\n",
       " '2zZI9xXjyRs1tz0baebU2u',\n",
       " '3SSflpFdIv5r6x2fOcQvrH',\n",
       " '5UR2dSBGKuWNIwPmfmmis9',\n",
       " '0rM8gtOfjotMjvD01sw9KU',\n",
       " '17gZuTtqncDzeAUgq3DwzT',\n",
       " '35o8eSfYQ7Q6iD396bpiFX',\n",
       " '00fjKkoulB5jEb5cOZpSws',\n",
       " '2zQaOu3Pi3HpOyUMWGKXit',\n",
       " '4ak6ONefj5HI1SDYCnBLiO',\n",
       " '2Rl6trOOtjp907YwC3KsNk',\n",
       " '4Wm9LOrprI2pHUkuLNScaa']"
      ]
     },
     "execution_count": 490,
     "metadata": {},
     "output_type": "execute_result"
    }
   ],
   "source": [
    "DearlyBeloved_track_ids"
   ]
  },
  {
   "cell_type": "markdown",
   "id": "9eb1ed87",
   "metadata": {},
   "source": [
    "Shortening the data string for Dearly Beloved. "
   ]
  },
  {
   "cell_type": "code",
   "execution_count": 491,
   "id": "e0357363",
   "metadata": {},
   "outputs": [
    {
     "data": {
      "text/plain": [
       "'5hvGpBhg1C3ECsKn9UMEAc,7ufw2AvrztmY9Y8pU41FfK,2zZI9xXjyRs1tz0baebU2u,3SSflpFdIv5r6x2fOcQvrH,5UR2dSBGKuWNIwPmfmmis9,0rM8gtOfjotMjvD01sw9KU,17gZuTtqncDzeAUgq3DwzT,35o8eSfYQ7Q6iD396bpiFX,00fjKkoulB5jEb5cOZpSws,2zQaOu3Pi3HpOyUMWGKXit,4ak6ONefj5HI1SDYCnBLiO,2Rl6trOOtjp907YwC3KsNk,4Wm9LOrprI2pHUkuLNScaa'"
      ]
     },
     "execution_count": 491,
     "metadata": {},
     "output_type": "execute_result"
    }
   ],
   "source": [
    "DearlyBeloved_track_strings = ','.join(str(x) for x in DearlyBeloved_track_ids)\n",
    "DearlyBeloved_track_strings"
   ]
  },
  {
   "cell_type": "code",
   "execution_count": 492,
   "id": "c463006e",
   "metadata": {},
   "outputs": [],
   "source": [
    "track_features_endpoint = \"https://api.spotify.com/v1/audio-features?ids={}\".format(DearlyBeloved_track_strings)"
   ]
  },
  {
   "cell_type": "code",
   "execution_count": 493,
   "id": "b56af821",
   "metadata": {},
   "outputs": [],
   "source": [
    "DearlyBeloved_features = requests.get(track_features_endpoint, headers = session_header)"
   ]
  },
  {
   "cell_type": "code",
   "execution_count": 494,
   "id": "a338f075",
   "metadata": {},
   "outputs": [
    {
     "data": {
      "text/plain": [
       "200"
      ]
     },
     "execution_count": 494,
     "metadata": {},
     "output_type": "execute_result"
    }
   ],
   "source": [
    "DearlyBeloved_features.status_code"
   ]
  },
  {
   "cell_type": "code",
   "execution_count": 495,
   "id": "6ea00f5c",
   "metadata": {},
   "outputs": [],
   "source": [
    "DearlyBeloved_dict = json.loads(DearlyBeloved_features.text)"
   ]
  },
  {
   "cell_type": "markdown",
   "id": "bd18f30a",
   "metadata": {},
   "source": [
    "Lists audio features for the overall album."
   ]
  },
  {
   "cell_type": "code",
   "execution_count": 496,
   "id": "bb3af642",
   "metadata": {},
   "outputs": [
    {
     "data": {
      "text/plain": [
       "{'danceability': 0.482,\n",
       " 'energy': 0.823,\n",
       " 'key': 10,\n",
       " 'loudness': -5.683,\n",
       " 'mode': 0,\n",
       " 'speechiness': 0.0384,\n",
       " 'acousticness': 0.000133,\n",
       " 'instrumentalness': 0.00102,\n",
       " 'liveness': 0.105,\n",
       " 'valence': 0.135,\n",
       " 'tempo': 123.014,\n",
       " 'type': 'audio_features',\n",
       " 'id': '5hvGpBhg1C3ECsKn9UMEAc',\n",
       " 'uri': 'spotify:track:5hvGpBhg1C3ECsKn9UMEAc',\n",
       " 'track_href': 'https://api.spotify.com/v1/tracks/5hvGpBhg1C3ECsKn9UMEAc',\n",
       " 'analysis_url': 'https://api.spotify.com/v1/audio-analysis/5hvGpBhg1C3ECsKn9UMEAc',\n",
       " 'duration_ms': 288806,\n",
       " 'time_signature': 4}"
      ]
     },
     "execution_count": 496,
     "metadata": {},
     "output_type": "execute_result"
    }
   ],
   "source": [
    "DearlyBeloved_dict['audio_features'][0]"
   ]
  },
  {
   "cell_type": "code",
   "execution_count": 497,
   "id": "249ee1ad",
   "metadata": {},
   "outputs": [],
   "source": [
    "DearlyBeloved_df = pd.DataFrame(DearlyBeloved_dict['audio_features'])"
   ]
  },
  {
   "cell_type": "markdown",
   "id": "812e33fd",
   "metadata": {},
   "source": [
    "Lists audio features of Dearly Beloved by track."
   ]
  },
  {
   "cell_type": "code",
   "execution_count": null,
   "id": "d463db75",
   "metadata": {
    "scrolled": false
   },
   "outputs": [],
   "source": [
    "DearlyBeloved_df"
   ]
  },
  {
   "cell_type": "markdown",
   "id": "8dada5d3",
   "metadata": {},
   "source": [
    "Starting to access the next album's information which is Wake Up Sunshine by All Time Low. I really love this band and their music has helped me through a lot of hard times. Not only that, but their music is really catchy and I also love belting it out in the car. My roommate and I also went to see All Time Low in concert and so this album also has a special memory tied to it for that reason."
   ]
  },
  {
   "cell_type": "code",
   "execution_count": 499,
   "id": "a75a58e5",
   "metadata": {},
   "outputs": [
    {
     "name": "stdout",
     "output_type": "stream",
     "text": [
      "200\n",
      "02lU0Hj680zVexT4GqJJZ4,402Ecma69MRxeQK6ml6YbI,6lMPUipRF49L8AxLW3F40B,1wQsTZ4AxGoXB9FmD9Nf4o,4nOi9YbtFt7e9I4bbI1FKd,0xUvmXH7JO3klazeWlOyup,0tyR7Bu9P086aWBFZ4QJoo,2nZ3LmQbY2rEd4awJVkQpd,2uVNn2pFpDlx1XrFcEfary,3IDgkcLETJkpp43cad5SwB,2UQ7yB7jUsLTf3lNfrL2QV,2z81IGdOL54S59AUdcFkw5,4LpT15R6GqcKGjT92R8kfS,7AQG7amrUS84JzsarjS28y,3Aq9W9BBCjsFOQqcYyO6IA\n"
     ]
    }
   ],
   "source": [
    "WakeUpSunshine_id = '1kwAv74rVTTGMpawGsXtiE'\n",
    "album_tracks_endpoint = \"https://api.spotify.com/v1/albums/{}/tracks\".format(WakeUpSunshine_id)\n",
    "WakeUpSunshine_tracks = requests.get(album_tracks_endpoint, headers = session_header)\n",
    "print(WakeUpSunshine_tracks.status_code)\n",
    "WakeUpSunshine_dict = json.loads(WakeUpSunshine_tracks.text)\n",
    "WakeUpSunshine_track_ids = [x['id'] for x in WakeUpSunshine_dict['items']]\n",
    "WakeUpSunshine_track_strings = ','.join(str(x) for x in WakeUpSunshine_track_ids)\n",
    "print(WakeUpSunshine_track_strings)\n",
    "track_features_endpoint = \"https://api.spotify.com/v1/audio-features?ids={}\".format(WakeUpSunshine_track_strings)"
   ]
  },
  {
   "cell_type": "code",
   "execution_count": 500,
   "id": "feaf7293",
   "metadata": {},
   "outputs": [
    {
     "data": {
      "text/plain": [
       "200"
      ]
     },
     "execution_count": 500,
     "metadata": {},
     "output_type": "execute_result"
    }
   ],
   "source": [
    "WakeUpSunshine_features = requests.get(track_features_endpoint, headers = session_header)\n",
    "WakeUpSunshine_features.status_code"
   ]
  },
  {
   "cell_type": "markdown",
   "id": "c51cea4c",
   "metadata": {},
   "source": [
    "Lists Wake Up Sunshine's overall album audio features."
   ]
  },
  {
   "cell_type": "code",
   "execution_count": 501,
   "id": "19210176",
   "metadata": {
    "scrolled": true
   },
   "outputs": [
    {
     "data": {
      "text/plain": [
       "{'danceability': 0.55,\n",
       " 'energy': 0.837,\n",
       " 'key': 11,\n",
       " 'loudness': -5.411,\n",
       " 'mode': 1,\n",
       " 'speechiness': 0.044,\n",
       " 'acousticness': 0.0104,\n",
       " 'instrumentalness': 0,\n",
       " 'liveness': 0.306,\n",
       " 'valence': 0.637,\n",
       " 'tempo': 89.821,\n",
       " 'type': 'audio_features',\n",
       " 'id': '02lU0Hj680zVexT4GqJJZ4',\n",
       " 'uri': 'spotify:track:02lU0Hj680zVexT4GqJJZ4',\n",
       " 'track_href': 'https://api.spotify.com/v1/tracks/02lU0Hj680zVexT4GqJJZ4',\n",
       " 'analysis_url': 'https://api.spotify.com/v1/audio-analysis/02lU0Hj680zVexT4GqJJZ4',\n",
       " 'duration_ms': 223994,\n",
       " 'time_signature': 4}"
      ]
     },
     "execution_count": 501,
     "metadata": {},
     "output_type": "execute_result"
    }
   ],
   "source": [
    "WakeUpSunshine = json.loads(WakeUpSunshine_features.text)\n",
    "WakeUpSunshine['audio_features'][0]"
   ]
  },
  {
   "cell_type": "code",
   "execution_count": 502,
   "id": "ae5397b5",
   "metadata": {
    "scrolled": true
   },
   "outputs": [],
   "source": [
    "WakeUpSunshine_df = pd.DataFrame(WakeUpSunshine['audio_features'])"
   ]
  },
  {
   "cell_type": "markdown",
   "id": "729e5ff1",
   "metadata": {},
   "source": [
    "Listing all the audio features of each track on Wake Up Sunshine"
   ]
  },
  {
   "cell_type": "code",
   "execution_count": null,
   "id": "611736b3",
   "metadata": {
    "scrolled": false
   },
   "outputs": [],
   "source": [
    "WakeUpSunshine_df"
   ]
  },
  {
   "cell_type": "markdown",
   "id": "7ad19ccc",
   "metadata": {},
   "source": [
    "Assigning af to be the audio features document"
   ]
  },
  {
   "cell_type": "code",
   "execution_count": 504,
   "id": "00fd6ee8",
   "metadata": {},
   "outputs": [],
   "source": [
    "af = pd.read_csv('audio_features.csv', sep = ',')"
   ]
  },
  {
   "cell_type": "markdown",
   "id": "f8a1e664",
   "metadata": {},
   "source": [
    "Lists all the audio features of each track from each album, but does not include an album column and I am unsure why."
   ]
  },
  {
   "cell_type": "code",
   "execution_count": 505,
   "id": "dbc4044b",
   "metadata": {
    "collapsed": true
   },
   "outputs": [
    {
     "data": {
      "text/html": [
       "<div>\n",
       "<style scoped>\n",
       "    .dataframe tbody tr th:only-of-type {\n",
       "        vertical-align: middle;\n",
       "    }\n",
       "\n",
       "    .dataframe tbody tr th {\n",
       "        vertical-align: top;\n",
       "    }\n",
       "\n",
       "    .dataframe thead th {\n",
       "        text-align: right;\n",
       "    }\n",
       "</style>\n",
       "<table border=\"1\" class=\"dataframe\">\n",
       "  <thead>\n",
       "    <tr style=\"text-align: right;\">\n",
       "      <th></th>\n",
       "      <th>danceability</th>\n",
       "      <th>energy</th>\n",
       "      <th>key</th>\n",
       "      <th>loudness</th>\n",
       "      <th>mode</th>\n",
       "      <th>speechiness</th>\n",
       "      <th>acousticness</th>\n",
       "      <th>instrumentalness</th>\n",
       "      <th>liveness</th>\n",
       "      <th>valence</th>\n",
       "      <th>tempo</th>\n",
       "      <th>type</th>\n",
       "      <th>id</th>\n",
       "      <th>uri</th>\n",
       "      <th>track_href</th>\n",
       "      <th>analysis_url</th>\n",
       "      <th>duration_ms</th>\n",
       "      <th>time_signature</th>\n",
       "    </tr>\n",
       "  </thead>\n",
       "  <tbody>\n",
       "    <tr>\n",
       "      <th>0</th>\n",
       "      <td>0.482</td>\n",
       "      <td>0.823</td>\n",
       "      <td>10</td>\n",
       "      <td>-5.683</td>\n",
       "      <td>0</td>\n",
       "      <td>0.0384</td>\n",
       "      <td>0.000133</td>\n",
       "      <td>0.001020</td>\n",
       "      <td>0.1050</td>\n",
       "      <td>0.135</td>\n",
       "      <td>123.014</td>\n",
       "      <td>audio_features</td>\n",
       "      <td>5hvGpBhg1C3ECsKn9UMEAc</td>\n",
       "      <td>spotify:track:5hvGpBhg1C3ECsKn9UMEAc</td>\n",
       "      <td>https://api.spotify.com/v1/tracks/5hvGpBhg1C3E...</td>\n",
       "      <td>https://api.spotify.com/v1/audio-analysis/5hvG...</td>\n",
       "      <td>288806</td>\n",
       "      <td>4</td>\n",
       "    </tr>\n",
       "    <tr>\n",
       "      <th>1</th>\n",
       "      <td>0.266</td>\n",
       "      <td>0.967</td>\n",
       "      <td>2</td>\n",
       "      <td>-3.778</td>\n",
       "      <td>0</td>\n",
       "      <td>0.1740</td>\n",
       "      <td>0.000033</td>\n",
       "      <td>0.000400</td>\n",
       "      <td>0.4820</td>\n",
       "      <td>0.367</td>\n",
       "      <td>113.108</td>\n",
       "      <td>audio_features</td>\n",
       "      <td>7ufw2AvrztmY9Y8pU41FfK</td>\n",
       "      <td>spotify:track:7ufw2AvrztmY9Y8pU41FfK</td>\n",
       "      <td>https://api.spotify.com/v1/tracks/7ufw2AvrztmY...</td>\n",
       "      <td>https://api.spotify.com/v1/audio-analysis/7ufw...</td>\n",
       "      <td>215422</td>\n",
       "      <td>5</td>\n",
       "    </tr>\n",
       "    <tr>\n",
       "      <th>2</th>\n",
       "      <td>0.214</td>\n",
       "      <td>0.808</td>\n",
       "      <td>6</td>\n",
       "      <td>-4.668</td>\n",
       "      <td>0</td>\n",
       "      <td>0.0586</td>\n",
       "      <td>0.001540</td>\n",
       "      <td>0.000058</td>\n",
       "      <td>0.0741</td>\n",
       "      <td>0.207</td>\n",
       "      <td>159.869</td>\n",
       "      <td>audio_features</td>\n",
       "      <td>2zZI9xXjyRs1tz0baebU2u</td>\n",
       "      <td>spotify:track:2zZI9xXjyRs1tz0baebU2u</td>\n",
       "      <td>https://api.spotify.com/v1/tracks/2zZI9xXjyRs1...</td>\n",
       "      <td>https://api.spotify.com/v1/audio-analysis/2zZI...</td>\n",
       "      <td>234688</td>\n",
       "      <td>4</td>\n",
       "    </tr>\n",
       "    <tr>\n",
       "      <th>3</th>\n",
       "      <td>0.368</td>\n",
       "      <td>0.845</td>\n",
       "      <td>6</td>\n",
       "      <td>-4.870</td>\n",
       "      <td>0</td>\n",
       "      <td>0.0570</td>\n",
       "      <td>0.000243</td>\n",
       "      <td>0.000001</td>\n",
       "      <td>0.2530</td>\n",
       "      <td>0.314</td>\n",
       "      <td>82.781</td>\n",
       "      <td>audio_features</td>\n",
       "      <td>3SSflpFdIv5r6x2fOcQvrH</td>\n",
       "      <td>spotify:track:3SSflpFdIv5r6x2fOcQvrH</td>\n",
       "      <td>https://api.spotify.com/v1/tracks/3SSflpFdIv5r...</td>\n",
       "      <td>https://api.spotify.com/v1/audio-analysis/3SSf...</td>\n",
       "      <td>221224</td>\n",
       "      <td>4</td>\n",
       "    </tr>\n",
       "    <tr>\n",
       "      <th>4</th>\n",
       "      <td>0.499</td>\n",
       "      <td>0.879</td>\n",
       "      <td>8</td>\n",
       "      <td>-4.953</td>\n",
       "      <td>0</td>\n",
       "      <td>0.0527</td>\n",
       "      <td>0.000598</td>\n",
       "      <td>0.000667</td>\n",
       "      <td>0.2950</td>\n",
       "      <td>0.372</td>\n",
       "      <td>123.026</td>\n",
       "      <td>audio_features</td>\n",
       "      <td>5UR2dSBGKuWNIwPmfmmis9</td>\n",
       "      <td>spotify:track:5UR2dSBGKuWNIwPmfmmis9</td>\n",
       "      <td>https://api.spotify.com/v1/tracks/5UR2dSBGKuWN...</td>\n",
       "      <td>https://api.spotify.com/v1/audio-analysis/5UR2...</td>\n",
       "      <td>222634</td>\n",
       "      <td>4</td>\n",
       "    </tr>\n",
       "    <tr>\n",
       "      <th>5</th>\n",
       "      <td>0.515</td>\n",
       "      <td>0.690</td>\n",
       "      <td>4</td>\n",
       "      <td>-6.178</td>\n",
       "      <td>0</td>\n",
       "      <td>0.0361</td>\n",
       "      <td>0.000427</td>\n",
       "      <td>0.000005</td>\n",
       "      <td>0.0746</td>\n",
       "      <td>0.198</td>\n",
       "      <td>103.010</td>\n",
       "      <td>audio_features</td>\n",
       "      <td>0rM8gtOfjotMjvD01sw9KU</td>\n",
       "      <td>spotify:track:0rM8gtOfjotMjvD01sw9KU</td>\n",
       "      <td>https://api.spotify.com/v1/tracks/0rM8gtOfjotM...</td>\n",
       "      <td>https://api.spotify.com/v1/audio-analysis/0rM8...</td>\n",
       "      <td>212979</td>\n",
       "      <td>4</td>\n",
       "    </tr>\n",
       "    <tr>\n",
       "      <th>6</th>\n",
       "      <td>0.352</td>\n",
       "      <td>0.908</td>\n",
       "      <td>0</td>\n",
       "      <td>-5.306</td>\n",
       "      <td>1</td>\n",
       "      <td>0.0810</td>\n",
       "      <td>0.000098</td>\n",
       "      <td>0.000137</td>\n",
       "      <td>0.0851</td>\n",
       "      <td>0.584</td>\n",
       "      <td>125.920</td>\n",
       "      <td>audio_features</td>\n",
       "      <td>17gZuTtqncDzeAUgq3DwzT</td>\n",
       "      <td>spotify:track:17gZuTtqncDzeAUgq3DwzT</td>\n",
       "      <td>https://api.spotify.com/v1/tracks/17gZuTtqncDz...</td>\n",
       "      <td>https://api.spotify.com/v1/audio-analysis/17gZ...</td>\n",
       "      <td>235371</td>\n",
       "      <td>4</td>\n",
       "    </tr>\n",
       "    <tr>\n",
       "      <th>7</th>\n",
       "      <td>0.482</td>\n",
       "      <td>0.714</td>\n",
       "      <td>7</td>\n",
       "      <td>-5.343</td>\n",
       "      <td>0</td>\n",
       "      <td>0.0399</td>\n",
       "      <td>0.008780</td>\n",
       "      <td>0.000000</td>\n",
       "      <td>0.1180</td>\n",
       "      <td>0.227</td>\n",
       "      <td>129.964</td>\n",
       "      <td>audio_features</td>\n",
       "      <td>35o8eSfYQ7Q6iD396bpiFX</td>\n",
       "      <td>spotify:track:35o8eSfYQ7Q6iD396bpiFX</td>\n",
       "      <td>https://api.spotify.com/v1/tracks/35o8eSfYQ7Q6...</td>\n",
       "      <td>https://api.spotify.com/v1/audio-analysis/35o8...</td>\n",
       "      <td>211682</td>\n",
       "      <td>4</td>\n",
       "    </tr>\n",
       "    <tr>\n",
       "      <th>8</th>\n",
       "      <td>0.319</td>\n",
       "      <td>0.890</td>\n",
       "      <td>0</td>\n",
       "      <td>-3.961</td>\n",
       "      <td>1</td>\n",
       "      <td>0.0598</td>\n",
       "      <td>0.000331</td>\n",
       "      <td>0.000164</td>\n",
       "      <td>0.0462</td>\n",
       "      <td>0.388</td>\n",
       "      <td>176.082</td>\n",
       "      <td>audio_features</td>\n",
       "      <td>00fjKkoulB5jEb5cOZpSws</td>\n",
       "      <td>spotify:track:00fjKkoulB5jEb5cOZpSws</td>\n",
       "      <td>https://api.spotify.com/v1/tracks/00fjKkoulB5j...</td>\n",
       "      <td>https://api.spotify.com/v1/audio-analysis/00fj...</td>\n",
       "      <td>221043</td>\n",
       "      <td>4</td>\n",
       "    </tr>\n",
       "    <tr>\n",
       "      <th>9</th>\n",
       "      <td>0.520</td>\n",
       "      <td>0.675</td>\n",
       "      <td>8</td>\n",
       "      <td>-6.714</td>\n",
       "      <td>0</td>\n",
       "      <td>0.0351</td>\n",
       "      <td>0.002030</td>\n",
       "      <td>0.001400</td>\n",
       "      <td>0.0978</td>\n",
       "      <td>0.186</td>\n",
       "      <td>109.970</td>\n",
       "      <td>audio_features</td>\n",
       "      <td>2zQaOu3Pi3HpOyUMWGKXit</td>\n",
       "      <td>spotify:track:2zQaOu3Pi3HpOyUMWGKXit</td>\n",
       "      <td>https://api.spotify.com/v1/tracks/2zQaOu3Pi3Hp...</td>\n",
       "      <td>https://api.spotify.com/v1/audio-analysis/2zQa...</td>\n",
       "      <td>220140</td>\n",
       "      <td>4</td>\n",
       "    </tr>\n",
       "    <tr>\n",
       "      <th>10</th>\n",
       "      <td>0.537</td>\n",
       "      <td>0.458</td>\n",
       "      <td>9</td>\n",
       "      <td>-6.590</td>\n",
       "      <td>0</td>\n",
       "      <td>0.0331</td>\n",
       "      <td>0.009000</td>\n",
       "      <td>0.000000</td>\n",
       "      <td>0.1070</td>\n",
       "      <td>0.191</td>\n",
       "      <td>126.971</td>\n",
       "      <td>audio_features</td>\n",
       "      <td>4ak6ONefj5HI1SDYCnBLiO</td>\n",
       "      <td>spotify:track:4ak6ONefj5HI1SDYCnBLiO</td>\n",
       "      <td>https://api.spotify.com/v1/tracks/4ak6ONefj5HI...</td>\n",
       "      <td>https://api.spotify.com/v1/audio-analysis/4ak6...</td>\n",
       "      <td>255106</td>\n",
       "      <td>4</td>\n",
       "    </tr>\n",
       "    <tr>\n",
       "      <th>11</th>\n",
       "      <td>0.532</td>\n",
       "      <td>0.744</td>\n",
       "      <td>11</td>\n",
       "      <td>-6.195</td>\n",
       "      <td>0</td>\n",
       "      <td>0.0453</td>\n",
       "      <td>0.001290</td>\n",
       "      <td>0.000007</td>\n",
       "      <td>0.0946</td>\n",
       "      <td>0.292</td>\n",
       "      <td>119.968</td>\n",
       "      <td>audio_features</td>\n",
       "      <td>2Rl6trOOtjp907YwC3KsNk</td>\n",
       "      <td>spotify:track:2Rl6trOOtjp907YwC3KsNk</td>\n",
       "      <td>https://api.spotify.com/v1/tracks/2Rl6trOOtjp9...</td>\n",
       "      <td>https://api.spotify.com/v1/audio-analysis/2Rl6...</td>\n",
       "      <td>215953</td>\n",
       "      <td>4</td>\n",
       "    </tr>\n",
       "    <tr>\n",
       "      <th>12</th>\n",
       "      <td>0.631</td>\n",
       "      <td>0.418</td>\n",
       "      <td>2</td>\n",
       "      <td>-5.680</td>\n",
       "      <td>0</td>\n",
       "      <td>0.0321</td>\n",
       "      <td>0.782000</td>\n",
       "      <td>0.000000</td>\n",
       "      <td>0.0933</td>\n",
       "      <td>0.514</td>\n",
       "      <td>137.656</td>\n",
       "      <td>audio_features</td>\n",
       "      <td>4Wm9LOrprI2pHUkuLNScaa</td>\n",
       "      <td>spotify:track:4Wm9LOrprI2pHUkuLNScaa</td>\n",
       "      <td>https://api.spotify.com/v1/tracks/4Wm9LOrprI2p...</td>\n",
       "      <td>https://api.spotify.com/v1/audio-analysis/4Wm9...</td>\n",
       "      <td>229576</td>\n",
       "      <td>4</td>\n",
       "    </tr>\n",
       "    <tr>\n",
       "      <th>0</th>\n",
       "      <td>0.550</td>\n",
       "      <td>0.837</td>\n",
       "      <td>11</td>\n",
       "      <td>-5.411</td>\n",
       "      <td>1</td>\n",
       "      <td>0.0440</td>\n",
       "      <td>0.010400</td>\n",
       "      <td>0.000000</td>\n",
       "      <td>0.3060</td>\n",
       "      <td>0.637</td>\n",
       "      <td>89.821</td>\n",
       "      <td>audio_features</td>\n",
       "      <td>02lU0Hj680zVexT4GqJJZ4</td>\n",
       "      <td>spotify:track:02lU0Hj680zVexT4GqJJZ4</td>\n",
       "      <td>https://api.spotify.com/v1/tracks/02lU0Hj680zV...</td>\n",
       "      <td>https://api.spotify.com/v1/audio-analysis/02lU...</td>\n",
       "      <td>223994</td>\n",
       "      <td>4</td>\n",
       "    </tr>\n",
       "    <tr>\n",
       "      <th>1</th>\n",
       "      <td>0.656</td>\n",
       "      <td>0.955</td>\n",
       "      <td>7</td>\n",
       "      <td>-3.842</td>\n",
       "      <td>1</td>\n",
       "      <td>0.0462</td>\n",
       "      <td>0.008650</td>\n",
       "      <td>0.000000</td>\n",
       "      <td>0.3420</td>\n",
       "      <td>0.558</td>\n",
       "      <td>105.031</td>\n",
       "      <td>audio_features</td>\n",
       "      <td>402Ecma69MRxeQK6ml6YbI</td>\n",
       "      <td>spotify:track:402Ecma69MRxeQK6ml6YbI</td>\n",
       "      <td>https://api.spotify.com/v1/tracks/402Ecma69MRx...</td>\n",
       "      <td>https://api.spotify.com/v1/audio-analysis/402E...</td>\n",
       "      <td>180599</td>\n",
       "      <td>4</td>\n",
       "    </tr>\n",
       "    <tr>\n",
       "      <th>2</th>\n",
       "      <td>0.556</td>\n",
       "      <td>0.899</td>\n",
       "      <td>4</td>\n",
       "      <td>-3.372</td>\n",
       "      <td>1</td>\n",
       "      <td>0.0711</td>\n",
       "      <td>0.002510</td>\n",
       "      <td>0.000000</td>\n",
       "      <td>0.0800</td>\n",
       "      <td>0.831</td>\n",
       "      <td>102.056</td>\n",
       "      <td>audio_features</td>\n",
       "      <td>6lMPUipRF49L8AxLW3F40B</td>\n",
       "      <td>spotify:track:6lMPUipRF49L8AxLW3F40B</td>\n",
       "      <td>https://api.spotify.com/v1/tracks/6lMPUipRF49L...</td>\n",
       "      <td>https://api.spotify.com/v1/audio-analysis/6lMP...</td>\n",
       "      <td>167042</td>\n",
       "      <td>4</td>\n",
       "    </tr>\n",
       "    <tr>\n",
       "      <th>3</th>\n",
       "      <td>0.643</td>\n",
       "      <td>0.927</td>\n",
       "      <td>2</td>\n",
       "      <td>-2.820</td>\n",
       "      <td>1</td>\n",
       "      <td>0.0533</td>\n",
       "      <td>0.001930</td>\n",
       "      <td>0.000000</td>\n",
       "      <td>0.1030</td>\n",
       "      <td>0.682</td>\n",
       "      <td>102.037</td>\n",
       "      <td>audio_features</td>\n",
       "      <td>1wQsTZ4AxGoXB9FmD9Nf4o</td>\n",
       "      <td>spotify:track:1wQsTZ4AxGoXB9FmD9Nf4o</td>\n",
       "      <td>https://api.spotify.com/v1/tracks/1wQsTZ4AxGoX...</td>\n",
       "      <td>https://api.spotify.com/v1/audio-analysis/1wQs...</td>\n",
       "      <td>174895</td>\n",
       "      <td>4</td>\n",
       "    </tr>\n",
       "    <tr>\n",
       "      <th>4</th>\n",
       "      <td>0.511</td>\n",
       "      <td>0.903</td>\n",
       "      <td>6</td>\n",
       "      <td>-4.194</td>\n",
       "      <td>0</td>\n",
       "      <td>0.0685</td>\n",
       "      <td>0.000707</td>\n",
       "      <td>0.000000</td>\n",
       "      <td>0.0725</td>\n",
       "      <td>0.882</td>\n",
       "      <td>175.021</td>\n",
       "      <td>audio_features</td>\n",
       "      <td>4nOi9YbtFt7e9I4bbI1FKd</td>\n",
       "      <td>spotify:track:4nOi9YbtFt7e9I4bbI1FKd</td>\n",
       "      <td>https://api.spotify.com/v1/tracks/4nOi9YbtFt7e...</td>\n",
       "      <td>https://api.spotify.com/v1/audio-analysis/4nOi...</td>\n",
       "      <td>147060</td>\n",
       "      <td>3</td>\n",
       "    </tr>\n",
       "    <tr>\n",
       "      <th>5</th>\n",
       "      <td>0.508</td>\n",
       "      <td>0.951</td>\n",
       "      <td>11</td>\n",
       "      <td>-2.750</td>\n",
       "      <td>1</td>\n",
       "      <td>0.0709</td>\n",
       "      <td>0.001250</td>\n",
       "      <td>0.000000</td>\n",
       "      <td>0.2000</td>\n",
       "      <td>0.466</td>\n",
       "      <td>146.048</td>\n",
       "      <td>audio_features</td>\n",
       "      <td>0xUvmXH7JO3klazeWlOyup</td>\n",
       "      <td>spotify:track:0xUvmXH7JO3klazeWlOyup</td>\n",
       "      <td>https://api.spotify.com/v1/tracks/0xUvmXH7JO3k...</td>\n",
       "      <td>https://api.spotify.com/v1/audio-analysis/0xUv...</td>\n",
       "      <td>196193</td>\n",
       "      <td>4</td>\n",
       "    </tr>\n",
       "    <tr>\n",
       "      <th>6</th>\n",
       "      <td>0.369</td>\n",
       "      <td>0.845</td>\n",
       "      <td>0</td>\n",
       "      <td>-3.449</td>\n",
       "      <td>0</td>\n",
       "      <td>0.0611</td>\n",
       "      <td>0.049300</td>\n",
       "      <td>0.000000</td>\n",
       "      <td>0.4160</td>\n",
       "      <td>0.782</td>\n",
       "      <td>78.532</td>\n",
       "      <td>audio_features</td>\n",
       "      <td>0tyR7Bu9P086aWBFZ4QJoo</td>\n",
       "      <td>spotify:track:0tyR7Bu9P086aWBFZ4QJoo</td>\n",
       "      <td>https://api.spotify.com/v1/tracks/0tyR7Bu9P086...</td>\n",
       "      <td>https://api.spotify.com/v1/audio-analysis/0tyR...</td>\n",
       "      <td>174068</td>\n",
       "      <td>4</td>\n",
       "    </tr>\n",
       "    <tr>\n",
       "      <th>7</th>\n",
       "      <td>0.686</td>\n",
       "      <td>0.591</td>\n",
       "      <td>3</td>\n",
       "      <td>-8.365</td>\n",
       "      <td>1</td>\n",
       "      <td>0.0450</td>\n",
       "      <td>0.569000</td>\n",
       "      <td>0.000813</td>\n",
       "      <td>0.3660</td>\n",
       "      <td>0.465</td>\n",
       "      <td>129.015</td>\n",
       "      <td>audio_features</td>\n",
       "      <td>2nZ3LmQbY2rEd4awJVkQpd</td>\n",
       "      <td>spotify:track:2nZ3LmQbY2rEd4awJVkQpd</td>\n",
       "      <td>https://api.spotify.com/v1/tracks/2nZ3LmQbY2rE...</td>\n",
       "      <td>https://api.spotify.com/v1/audio-analysis/2nZ3...</td>\n",
       "      <td>182451</td>\n",
       "      <td>4</td>\n",
       "    </tr>\n",
       "    <tr>\n",
       "      <th>8</th>\n",
       "      <td>0.598</td>\n",
       "      <td>0.886</td>\n",
       "      <td>8</td>\n",
       "      <td>-4.203</td>\n",
       "      <td>1</td>\n",
       "      <td>0.0412</td>\n",
       "      <td>0.000588</td>\n",
       "      <td>0.000048</td>\n",
       "      <td>0.0264</td>\n",
       "      <td>0.648</td>\n",
       "      <td>129.972</td>\n",
       "      <td>audio_features</td>\n",
       "      <td>2uVNn2pFpDlx1XrFcEfary</td>\n",
       "      <td>spotify:track:2uVNn2pFpDlx1XrFcEfary</td>\n",
       "      <td>https://api.spotify.com/v1/tracks/2uVNn2pFpDlx...</td>\n",
       "      <td>https://api.spotify.com/v1/audio-analysis/2uVN...</td>\n",
       "      <td>193949</td>\n",
       "      <td>4</td>\n",
       "    </tr>\n",
       "    <tr>\n",
       "      <th>9</th>\n",
       "      <td>0.583</td>\n",
       "      <td>0.859</td>\n",
       "      <td>1</td>\n",
       "      <td>-3.568</td>\n",
       "      <td>1</td>\n",
       "      <td>0.0432</td>\n",
       "      <td>0.002360</td>\n",
       "      <td>0.000000</td>\n",
       "      <td>0.1900</td>\n",
       "      <td>0.483</td>\n",
       "      <td>122.976</td>\n",
       "      <td>audio_features</td>\n",
       "      <td>3IDgkcLETJkpp43cad5SwB</td>\n",
       "      <td>spotify:track:3IDgkcLETJkpp43cad5SwB</td>\n",
       "      <td>https://api.spotify.com/v1/tracks/3IDgkcLETJkp...</td>\n",
       "      <td>https://api.spotify.com/v1/audio-analysis/3IDg...</td>\n",
       "      <td>220121</td>\n",
       "      <td>4</td>\n",
       "    </tr>\n",
       "    <tr>\n",
       "      <th>10</th>\n",
       "      <td>0.473</td>\n",
       "      <td>0.884</td>\n",
       "      <td>1</td>\n",
       "      <td>-2.532</td>\n",
       "      <td>1</td>\n",
       "      <td>0.0841</td>\n",
       "      <td>0.008030</td>\n",
       "      <td>0.000000</td>\n",
       "      <td>0.3480</td>\n",
       "      <td>0.812</td>\n",
       "      <td>165.104</td>\n",
       "      <td>audio_features</td>\n",
       "      <td>2UQ7yB7jUsLTf3lNfrL2QV</td>\n",
       "      <td>spotify:track:2UQ7yB7jUsLTf3lNfrL2QV</td>\n",
       "      <td>https://api.spotify.com/v1/tracks/2UQ7yB7jUsLT...</td>\n",
       "      <td>https://api.spotify.com/v1/audio-analysis/2UQ7...</td>\n",
       "      <td>166454</td>\n",
       "      <td>4</td>\n",
       "    </tr>\n",
       "    <tr>\n",
       "      <th>11</th>\n",
       "      <td>0.563</td>\n",
       "      <td>0.907</td>\n",
       "      <td>1</td>\n",
       "      <td>-3.985</td>\n",
       "      <td>0</td>\n",
       "      <td>0.1260</td>\n",
       "      <td>0.001740</td>\n",
       "      <td>0.000000</td>\n",
       "      <td>0.4890</td>\n",
       "      <td>0.598</td>\n",
       "      <td>125.034</td>\n",
       "      <td>audio_features</td>\n",
       "      <td>2z81IGdOL54S59AUdcFkw5</td>\n",
       "      <td>spotify:track:2z81IGdOL54S59AUdcFkw5</td>\n",
       "      <td>https://api.spotify.com/v1/tracks/2z81IGdOL54S...</td>\n",
       "      <td>https://api.spotify.com/v1/audio-analysis/2z81...</td>\n",
       "      <td>182067</td>\n",
       "      <td>4</td>\n",
       "    </tr>\n",
       "    <tr>\n",
       "      <th>12</th>\n",
       "      <td>0.543</td>\n",
       "      <td>0.699</td>\n",
       "      <td>10</td>\n",
       "      <td>-4.504</td>\n",
       "      <td>1</td>\n",
       "      <td>0.0349</td>\n",
       "      <td>0.078400</td>\n",
       "      <td>0.000000</td>\n",
       "      <td>0.0530</td>\n",
       "      <td>0.711</td>\n",
       "      <td>84.027</td>\n",
       "      <td>audio_features</td>\n",
       "      <td>4LpT15R6GqcKGjT92R8kfS</td>\n",
       "      <td>spotify:track:4LpT15R6GqcKGjT92R8kfS</td>\n",
       "      <td>https://api.spotify.com/v1/tracks/4LpT15R6GqcK...</td>\n",
       "      <td>https://api.spotify.com/v1/audio-analysis/4LpT...</td>\n",
       "      <td>183167</td>\n",
       "      <td>4</td>\n",
       "    </tr>\n",
       "    <tr>\n",
       "      <th>13</th>\n",
       "      <td>0.561</td>\n",
       "      <td>0.943</td>\n",
       "      <td>2</td>\n",
       "      <td>-3.869</td>\n",
       "      <td>1</td>\n",
       "      <td>0.0689</td>\n",
       "      <td>0.004620</td>\n",
       "      <td>0.000000</td>\n",
       "      <td>0.2640</td>\n",
       "      <td>0.735</td>\n",
       "      <td>101.995</td>\n",
       "      <td>audio_features</td>\n",
       "      <td>7AQG7amrUS84JzsarjS28y</td>\n",
       "      <td>spotify:track:7AQG7amrUS84JzsarjS28y</td>\n",
       "      <td>https://api.spotify.com/v1/tracks/7AQG7amrUS84...</td>\n",
       "      <td>https://api.spotify.com/v1/audio-analysis/7AQG...</td>\n",
       "      <td>194990</td>\n",
       "      <td>4</td>\n",
       "    </tr>\n",
       "    <tr>\n",
       "      <th>14</th>\n",
       "      <td>0.628</td>\n",
       "      <td>0.819</td>\n",
       "      <td>4</td>\n",
       "      <td>-4.621</td>\n",
       "      <td>1</td>\n",
       "      <td>0.0309</td>\n",
       "      <td>0.122000</td>\n",
       "      <td>0.001310</td>\n",
       "      <td>0.3110</td>\n",
       "      <td>0.951</td>\n",
       "      <td>92.459</td>\n",
       "      <td>audio_features</td>\n",
       "      <td>3Aq9W9BBCjsFOQqcYyO6IA</td>\n",
       "      <td>spotify:track:3Aq9W9BBCjsFOQqcYyO6IA</td>\n",
       "      <td>https://api.spotify.com/v1/tracks/3Aq9W9BBCjsF...</td>\n",
       "      <td>https://api.spotify.com/v1/audio-analysis/3Aq9...</td>\n",
       "      <td>185988</td>\n",
       "      <td>4</td>\n",
       "    </tr>\n",
       "  </tbody>\n",
       "</table>\n",
       "</div>"
      ],
      "text/plain": [
       "    danceability  energy  key  loudness  mode  speechiness  acousticness  \\\n",
       "0          0.482   0.823   10    -5.683     0       0.0384      0.000133   \n",
       "1          0.266   0.967    2    -3.778     0       0.1740      0.000033   \n",
       "2          0.214   0.808    6    -4.668     0       0.0586      0.001540   \n",
       "3          0.368   0.845    6    -4.870     0       0.0570      0.000243   \n",
       "4          0.499   0.879    8    -4.953     0       0.0527      0.000598   \n",
       "5          0.515   0.690    4    -6.178     0       0.0361      0.000427   \n",
       "6          0.352   0.908    0    -5.306     1       0.0810      0.000098   \n",
       "7          0.482   0.714    7    -5.343     0       0.0399      0.008780   \n",
       "8          0.319   0.890    0    -3.961     1       0.0598      0.000331   \n",
       "9          0.520   0.675    8    -6.714     0       0.0351      0.002030   \n",
       "10         0.537   0.458    9    -6.590     0       0.0331      0.009000   \n",
       "11         0.532   0.744   11    -6.195     0       0.0453      0.001290   \n",
       "12         0.631   0.418    2    -5.680     0       0.0321      0.782000   \n",
       "0          0.550   0.837   11    -5.411     1       0.0440      0.010400   \n",
       "1          0.656   0.955    7    -3.842     1       0.0462      0.008650   \n",
       "2          0.556   0.899    4    -3.372     1       0.0711      0.002510   \n",
       "3          0.643   0.927    2    -2.820     1       0.0533      0.001930   \n",
       "4          0.511   0.903    6    -4.194     0       0.0685      0.000707   \n",
       "5          0.508   0.951   11    -2.750     1       0.0709      0.001250   \n",
       "6          0.369   0.845    0    -3.449     0       0.0611      0.049300   \n",
       "7          0.686   0.591    3    -8.365     1       0.0450      0.569000   \n",
       "8          0.598   0.886    8    -4.203     1       0.0412      0.000588   \n",
       "9          0.583   0.859    1    -3.568     1       0.0432      0.002360   \n",
       "10         0.473   0.884    1    -2.532     1       0.0841      0.008030   \n",
       "11         0.563   0.907    1    -3.985     0       0.1260      0.001740   \n",
       "12         0.543   0.699   10    -4.504     1       0.0349      0.078400   \n",
       "13         0.561   0.943    2    -3.869     1       0.0689      0.004620   \n",
       "14         0.628   0.819    4    -4.621     1       0.0309      0.122000   \n",
       "\n",
       "    instrumentalness  liveness  valence    tempo            type  \\\n",
       "0           0.001020    0.1050    0.135  123.014  audio_features   \n",
       "1           0.000400    0.4820    0.367  113.108  audio_features   \n",
       "2           0.000058    0.0741    0.207  159.869  audio_features   \n",
       "3           0.000001    0.2530    0.314   82.781  audio_features   \n",
       "4           0.000667    0.2950    0.372  123.026  audio_features   \n",
       "5           0.000005    0.0746    0.198  103.010  audio_features   \n",
       "6           0.000137    0.0851    0.584  125.920  audio_features   \n",
       "7           0.000000    0.1180    0.227  129.964  audio_features   \n",
       "8           0.000164    0.0462    0.388  176.082  audio_features   \n",
       "9           0.001400    0.0978    0.186  109.970  audio_features   \n",
       "10          0.000000    0.1070    0.191  126.971  audio_features   \n",
       "11          0.000007    0.0946    0.292  119.968  audio_features   \n",
       "12          0.000000    0.0933    0.514  137.656  audio_features   \n",
       "0           0.000000    0.3060    0.637   89.821  audio_features   \n",
       "1           0.000000    0.3420    0.558  105.031  audio_features   \n",
       "2           0.000000    0.0800    0.831  102.056  audio_features   \n",
       "3           0.000000    0.1030    0.682  102.037  audio_features   \n",
       "4           0.000000    0.0725    0.882  175.021  audio_features   \n",
       "5           0.000000    0.2000    0.466  146.048  audio_features   \n",
       "6           0.000000    0.4160    0.782   78.532  audio_features   \n",
       "7           0.000813    0.3660    0.465  129.015  audio_features   \n",
       "8           0.000048    0.0264    0.648  129.972  audio_features   \n",
       "9           0.000000    0.1900    0.483  122.976  audio_features   \n",
       "10          0.000000    0.3480    0.812  165.104  audio_features   \n",
       "11          0.000000    0.4890    0.598  125.034  audio_features   \n",
       "12          0.000000    0.0530    0.711   84.027  audio_features   \n",
       "13          0.000000    0.2640    0.735  101.995  audio_features   \n",
       "14          0.001310    0.3110    0.951   92.459  audio_features   \n",
       "\n",
       "                        id                                   uri  \\\n",
       "0   5hvGpBhg1C3ECsKn9UMEAc  spotify:track:5hvGpBhg1C3ECsKn9UMEAc   \n",
       "1   7ufw2AvrztmY9Y8pU41FfK  spotify:track:7ufw2AvrztmY9Y8pU41FfK   \n",
       "2   2zZI9xXjyRs1tz0baebU2u  spotify:track:2zZI9xXjyRs1tz0baebU2u   \n",
       "3   3SSflpFdIv5r6x2fOcQvrH  spotify:track:3SSflpFdIv5r6x2fOcQvrH   \n",
       "4   5UR2dSBGKuWNIwPmfmmis9  spotify:track:5UR2dSBGKuWNIwPmfmmis9   \n",
       "5   0rM8gtOfjotMjvD01sw9KU  spotify:track:0rM8gtOfjotMjvD01sw9KU   \n",
       "6   17gZuTtqncDzeAUgq3DwzT  spotify:track:17gZuTtqncDzeAUgq3DwzT   \n",
       "7   35o8eSfYQ7Q6iD396bpiFX  spotify:track:35o8eSfYQ7Q6iD396bpiFX   \n",
       "8   00fjKkoulB5jEb5cOZpSws  spotify:track:00fjKkoulB5jEb5cOZpSws   \n",
       "9   2zQaOu3Pi3HpOyUMWGKXit  spotify:track:2zQaOu3Pi3HpOyUMWGKXit   \n",
       "10  4ak6ONefj5HI1SDYCnBLiO  spotify:track:4ak6ONefj5HI1SDYCnBLiO   \n",
       "11  2Rl6trOOtjp907YwC3KsNk  spotify:track:2Rl6trOOtjp907YwC3KsNk   \n",
       "12  4Wm9LOrprI2pHUkuLNScaa  spotify:track:4Wm9LOrprI2pHUkuLNScaa   \n",
       "0   02lU0Hj680zVexT4GqJJZ4  spotify:track:02lU0Hj680zVexT4GqJJZ4   \n",
       "1   402Ecma69MRxeQK6ml6YbI  spotify:track:402Ecma69MRxeQK6ml6YbI   \n",
       "2   6lMPUipRF49L8AxLW3F40B  spotify:track:6lMPUipRF49L8AxLW3F40B   \n",
       "3   1wQsTZ4AxGoXB9FmD9Nf4o  spotify:track:1wQsTZ4AxGoXB9FmD9Nf4o   \n",
       "4   4nOi9YbtFt7e9I4bbI1FKd  spotify:track:4nOi9YbtFt7e9I4bbI1FKd   \n",
       "5   0xUvmXH7JO3klazeWlOyup  spotify:track:0xUvmXH7JO3klazeWlOyup   \n",
       "6   0tyR7Bu9P086aWBFZ4QJoo  spotify:track:0tyR7Bu9P086aWBFZ4QJoo   \n",
       "7   2nZ3LmQbY2rEd4awJVkQpd  spotify:track:2nZ3LmQbY2rEd4awJVkQpd   \n",
       "8   2uVNn2pFpDlx1XrFcEfary  spotify:track:2uVNn2pFpDlx1XrFcEfary   \n",
       "9   3IDgkcLETJkpp43cad5SwB  spotify:track:3IDgkcLETJkpp43cad5SwB   \n",
       "10  2UQ7yB7jUsLTf3lNfrL2QV  spotify:track:2UQ7yB7jUsLTf3lNfrL2QV   \n",
       "11  2z81IGdOL54S59AUdcFkw5  spotify:track:2z81IGdOL54S59AUdcFkw5   \n",
       "12  4LpT15R6GqcKGjT92R8kfS  spotify:track:4LpT15R6GqcKGjT92R8kfS   \n",
       "13  7AQG7amrUS84JzsarjS28y  spotify:track:7AQG7amrUS84JzsarjS28y   \n",
       "14  3Aq9W9BBCjsFOQqcYyO6IA  spotify:track:3Aq9W9BBCjsFOQqcYyO6IA   \n",
       "\n",
       "                                           track_href  \\\n",
       "0   https://api.spotify.com/v1/tracks/5hvGpBhg1C3E...   \n",
       "1   https://api.spotify.com/v1/tracks/7ufw2AvrztmY...   \n",
       "2   https://api.spotify.com/v1/tracks/2zZI9xXjyRs1...   \n",
       "3   https://api.spotify.com/v1/tracks/3SSflpFdIv5r...   \n",
       "4   https://api.spotify.com/v1/tracks/5UR2dSBGKuWN...   \n",
       "5   https://api.spotify.com/v1/tracks/0rM8gtOfjotM...   \n",
       "6   https://api.spotify.com/v1/tracks/17gZuTtqncDz...   \n",
       "7   https://api.spotify.com/v1/tracks/35o8eSfYQ7Q6...   \n",
       "8   https://api.spotify.com/v1/tracks/00fjKkoulB5j...   \n",
       "9   https://api.spotify.com/v1/tracks/2zQaOu3Pi3Hp...   \n",
       "10  https://api.spotify.com/v1/tracks/4ak6ONefj5HI...   \n",
       "11  https://api.spotify.com/v1/tracks/2Rl6trOOtjp9...   \n",
       "12  https://api.spotify.com/v1/tracks/4Wm9LOrprI2p...   \n",
       "0   https://api.spotify.com/v1/tracks/02lU0Hj680zV...   \n",
       "1   https://api.spotify.com/v1/tracks/402Ecma69MRx...   \n",
       "2   https://api.spotify.com/v1/tracks/6lMPUipRF49L...   \n",
       "3   https://api.spotify.com/v1/tracks/1wQsTZ4AxGoX...   \n",
       "4   https://api.spotify.com/v1/tracks/4nOi9YbtFt7e...   \n",
       "5   https://api.spotify.com/v1/tracks/0xUvmXH7JO3k...   \n",
       "6   https://api.spotify.com/v1/tracks/0tyR7Bu9P086...   \n",
       "7   https://api.spotify.com/v1/tracks/2nZ3LmQbY2rE...   \n",
       "8   https://api.spotify.com/v1/tracks/2uVNn2pFpDlx...   \n",
       "9   https://api.spotify.com/v1/tracks/3IDgkcLETJkp...   \n",
       "10  https://api.spotify.com/v1/tracks/2UQ7yB7jUsLT...   \n",
       "11  https://api.spotify.com/v1/tracks/2z81IGdOL54S...   \n",
       "12  https://api.spotify.com/v1/tracks/4LpT15R6GqcK...   \n",
       "13  https://api.spotify.com/v1/tracks/7AQG7amrUS84...   \n",
       "14  https://api.spotify.com/v1/tracks/3Aq9W9BBCjsF...   \n",
       "\n",
       "                                         analysis_url  duration_ms  \\\n",
       "0   https://api.spotify.com/v1/audio-analysis/5hvG...       288806   \n",
       "1   https://api.spotify.com/v1/audio-analysis/7ufw...       215422   \n",
       "2   https://api.spotify.com/v1/audio-analysis/2zZI...       234688   \n",
       "3   https://api.spotify.com/v1/audio-analysis/3SSf...       221224   \n",
       "4   https://api.spotify.com/v1/audio-analysis/5UR2...       222634   \n",
       "5   https://api.spotify.com/v1/audio-analysis/0rM8...       212979   \n",
       "6   https://api.spotify.com/v1/audio-analysis/17gZ...       235371   \n",
       "7   https://api.spotify.com/v1/audio-analysis/35o8...       211682   \n",
       "8   https://api.spotify.com/v1/audio-analysis/00fj...       221043   \n",
       "9   https://api.spotify.com/v1/audio-analysis/2zQa...       220140   \n",
       "10  https://api.spotify.com/v1/audio-analysis/4ak6...       255106   \n",
       "11  https://api.spotify.com/v1/audio-analysis/2Rl6...       215953   \n",
       "12  https://api.spotify.com/v1/audio-analysis/4Wm9...       229576   \n",
       "0   https://api.spotify.com/v1/audio-analysis/02lU...       223994   \n",
       "1   https://api.spotify.com/v1/audio-analysis/402E...       180599   \n",
       "2   https://api.spotify.com/v1/audio-analysis/6lMP...       167042   \n",
       "3   https://api.spotify.com/v1/audio-analysis/1wQs...       174895   \n",
       "4   https://api.spotify.com/v1/audio-analysis/4nOi...       147060   \n",
       "5   https://api.spotify.com/v1/audio-analysis/0xUv...       196193   \n",
       "6   https://api.spotify.com/v1/audio-analysis/0tyR...       174068   \n",
       "7   https://api.spotify.com/v1/audio-analysis/2nZ3...       182451   \n",
       "8   https://api.spotify.com/v1/audio-analysis/2uVN...       193949   \n",
       "9   https://api.spotify.com/v1/audio-analysis/3IDg...       220121   \n",
       "10  https://api.spotify.com/v1/audio-analysis/2UQ7...       166454   \n",
       "11  https://api.spotify.com/v1/audio-analysis/2z81...       182067   \n",
       "12  https://api.spotify.com/v1/audio-analysis/4LpT...       183167   \n",
       "13  https://api.spotify.com/v1/audio-analysis/7AQG...       194990   \n",
       "14  https://api.spotify.com/v1/audio-analysis/3Aq9...       185988   \n",
       "\n",
       "    time_signature  \n",
       "0                4  \n",
       "1                5  \n",
       "2                4  \n",
       "3                4  \n",
       "4                4  \n",
       "5                4  \n",
       "6                4  \n",
       "7                4  \n",
       "8                4  \n",
       "9                4  \n",
       "10               4  \n",
       "11               4  \n",
       "12               4  \n",
       "0                4  \n",
       "1                4  \n",
       "2                4  \n",
       "3                4  \n",
       "4                3  \n",
       "5                4  \n",
       "6                4  \n",
       "7                4  \n",
       "8                4  \n",
       "9                4  \n",
       "10               4  \n",
       "11               4  \n",
       "12               4  \n",
       "13               4  \n",
       "14               4  "
      ]
     },
     "execution_count": 505,
     "metadata": {},
     "output_type": "execute_result"
    }
   ],
   "source": [
    "audio_features"
   ]
  },
  {
   "cell_type": "markdown",
   "id": "f969dd62",
   "metadata": {},
   "source": [
    "I chose Danceability and Tempo because I believe that they have a strong relation. I predict that the higher the danceability, the faster or higher the tempo will be."
   ]
  },
  {
   "cell_type": "markdown",
   "id": "8cb1fe8a",
   "metadata": {},
   "source": [
    "#### Set up of scatterplot to demonstrate the relationship between danceability and tempo for Dearly Beloved"
   ]
  },
  {
   "cell_type": "code",
   "execution_count": 506,
   "id": "c6114e6b",
   "metadata": {},
   "outputs": [
    {
     "data": {
      "image/png": "[encoded data removed]",
      "text/plain": [
       "<Figure size 432x288 with 1 Axes>"
      ]
     },
     "metadata": {
      "needs_background": "light"
     },
     "output_type": "display_data"
    }
   ],
   "source": [
    "fig1, ax1 = plt.subplots()\n",
    "db_df = audio_features[audio_features['id'] == 'Dearly Beloved']\n",
    "ax1.scatter(db_df['danceability'], db_df['tempo'], label = 'Dearly Beloved Album', color = 'blue')\n",
    "ax1.set_xlabel('Danceability')\n",
    "ax1.set_ylabel('Tempo')\n",
    "ax1.set_title('Relationship between Danceability and Tempo for Dearly Beloved Album')\n",
    "ax1.legend()\n",
    "\n",
    "plt.show()"
   ]
  },
  {
   "cell_type": "markdown",
   "id": "99a431f7",
   "metadata": {},
   "source": [
    "I am confused as to why no data is showing."
   ]
  },
  {
   "cell_type": "markdown",
   "id": "48d5ce84",
   "metadata": {},
   "source": [
    "#### Set up of scatterplot to demonstrate the relationship between danceability and tempo for Dearly Beloved"
   ]
  },
  {
   "cell_type": "code",
   "execution_count": 507,
   "id": "c387ca82",
   "metadata": {},
   "outputs": [
    {
     "data": {
      "image/png": "[encoded data removed]",
      "text/plain": [
       "<Figure size 432x288 with 1 Axes>"
      ]
     },
     "metadata": {
      "needs_background": "light"
     },
     "output_type": "display_data"
    }
   ],
   "source": [
    "fig1, ax1 = plt.subplots()\n",
    "db_df = audio_features[audio_features['id'] == 'Wake Up Sunshine']\n",
    "ax1.scatter(ws_df['danceability'], ws_df['tempo'], label = 'Wake Up Sunshine Album', color = 'green')\n",
    "ax1.set_xlabel('Danceability')\n",
    "ax1.set_ylabel('Tempo')\n",
    "ax1.set_title('Relationship between Danceability and Tempo for Wake Up Sunshine Album')\n",
    "ax1.legend()\n",
    "\n",
    "plt.show()"
   ]
  },
  {
   "cell_type": "markdown",
   "id": "43cef49c",
   "metadata": {},
   "source": [
    "I am still confused why no data is apparent on my graph."
   ]
  },
  {
   "cell_type": "markdown",
   "id": "0b00e21c",
   "metadata": {},
   "source": [
    "#### Set up of scatterplot to demonstrate the relationship between danceability and tempo between both albums."
   ]
  },
  {
   "cell_type": "code",
   "execution_count": 508,
   "id": "95bc67ac",
   "metadata": {
    "scrolled": true
   },
   "outputs": [
    {
     "data": {
      "image/png": "[encoded data removed]",
      "text/plain": [
       "<Figure size 432x288 with 1 Axes>"
      ]
     },
     "metadata": {
      "needs_background": "light"
     },
     "output_type": "display_data"
    }
   ],
   "source": [
    "fig1, ax1 = plt.subplots()\n",
    "db_df = audio_features[audio_features['id'] == 'Dearly Beloved']\n",
    "ws_df = audio_features[audio_features['id']== 'Wake Up Sunshine']\n",
    "ax1.scatter(db_df['danceability'], db_df['tempo'], label = 'Dearly Beloved Album', color = 'purple')\n",
    "ax1.scatter(ws_df['danceability'], ws_df['tempo'], label = 'Wake Up Sunshine Album', color = 'gray')\n",
    "ax1.set_xlabel('Danceability')\n",
    "ax1.set_ylabel('Tempo')\n",
    "ax1.set_title('Relationship between Danceability and Tempo for Two of My Favorite Albums')\n",
    "ax1.legend()\n",
    "\n",
    "plt.show()"
   ]
  },
  {
   "cell_type": "markdown",
   "id": "3678848f",
   "metadata": {},
   "source": [
    "I am also unsure of why there are not dots at all. I tried messing with the opacity, but that still did nothing. "
   ]
  },
  {
   "cell_type": "markdown",
   "id": "e1c30a86",
   "metadata": {},
   "source": [
    "#### Set up of histogram to demonstrate the relationship between danceability and tempo."
   ]
  },
  {
   "cell_type": "code",
   "execution_count": 509,
   "id": "d31fa5bd",
   "metadata": {},
   "outputs": [
    {
     "data": {
      "image/png": "[encoded data removed]",
      "text/plain": [
       "<Figure size 432x288 with 1 Axes>"
      ]
     },
     "metadata": {
      "needs_background": "light"
     },
     "output_type": "display_data"
    }
   ],
   "source": [
    "fig1, ax1 = plt.subplots()\n",
    "db = audio_features[audio_features['id'] == 'Dearly Beloved']['danceability']\n",
    "ws = audio_features[audio_features['id'] == 'Wake Up Sunshine']['danceability']\n",
    "ax1.hist(db, alpha = 0.5, color = 'red', label = 'Dearly Beloved')\n",
    "ax1.hist(ws, alpha = 0.5, color = 'green', label = 'Wake Up Sunshine')\n",
    "ax1.legend()\n",
    "plt.xlabel('Danceability')\n",
    "plt.ylabel('Tempo')\n",
    "plt.title('Relationship between Danceability and Tempo for Two of My Favorite Albums')\n",
    "plt.show()"
   ]
  },
  {
   "cell_type": "markdown",
   "id": "2c5ab276",
   "metadata": {},
   "source": [
    "I am still unsure of why no data is being shown. As a result of not being able to see the exact data points, I am unable to make a conclusion. "
   ]
  },
  {
   "cell_type": "markdown",
   "id": "0325a89d",
   "metadata": {},
   "source": [
    "#### Set up of Box plot to compare Danceability between both albums"
   ]
  },
  {
   "cell_type": "code",
   "execution_count": 510,
   "id": "5ef6e372",
   "metadata": {
    "scrolled": true
   },
   "outputs": [
    {
     "data": {
      "image/png": "[encoded data removed]",
      "text/plain": [
       "<Figure size 432x288 with 1 Axes>"
      ]
     },
     "metadata": {
      "needs_background": "light"
     },
     "output_type": "display_data"
    }
   ],
   "source": [
    "fig2, ax2 = plt.subplots()\n",
    "db_dan = af[af['id'] == 'Dearly Beloved']['danceability']\n",
    "ws_dan = af[af['id'] == 'Wake Up Sunshine']['danceability']\n",
    "db_x = [1] * len(db_dan)\n",
    "ws_x = [2] * len(ws_dan)\n",
    "db_x_jitter = np.random.uniform(-0.10, .10, len(db_x))\n",
    "ws_x_jitter = np.random.uniform(-0.10, .10, len(ws_x))\n",
    "ax2.scatter(db_x + db_x_jitter, db_dan, alpha = 0.4, s = 25)\n",
    "ax2.scatter(ws_x + ws_x_jitter, ws_dan, alpha = 0.4, s = 25)\n",
    "ax2.set_xlim(0.5, 2.5)\n",
    "ax2.boxplot([db_dan, ws_dan])\n",
    "ax2.set_xticks([1,2], ['Dearly Beloved', 'Wake Up Sunshine'])\n",
    "plt.show()"
   ]
  },
  {
   "cell_type": "markdown",
   "id": "798084cd",
   "metadata": {},
   "source": [
    "For this report, it helped me realize that I have come a long way from the beginning of my coding. I understand a lot more of the structure and reasoning behind the code. However, as demonstrated and seen in this report, I did struggle a little with the data being apparent. I still went ahead to show how I would go about setting up the different types of graphs as well as explain what the code cells mean. "
   ]
  },
  {
   "cell_type": "code",
   "execution_count": null,
   "id": "723d5d9f",
   "metadata": {},
   "outputs": [],
   "source": []
  }
 ],
 "metadata": {
  "kernelspec": {
   "display_name": "Python 3 (ipykernel)",
   "language": "python",
   "name": "python3"
  },
  "language_info": {
   "codemirror_mode": {
    "name": "ipython",
    "version": 3
   },
   "file_extension": ".py",
   "mimetype": "text/x-python",
   "name": "python",
   "nbconvert_exporter": "python",
   "pygments_lexer": "ipython3",
   "version": "3.9.12"
  }
 },
 "nbformat": 4,
 "nbformat_minor": 5
}
