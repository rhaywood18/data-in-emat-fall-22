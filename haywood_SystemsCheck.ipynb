{
 "cells": [
  {
   "cell_type": "code",
   "execution_count": 5,
   "id": "5b2b363e",
   "metadata": {},
   "outputs": [],
   "source": [
    "#Systems Check Assignment \n",
    "##Date: September 1st, 2022\n",
    "###Name: Rebecca Haywood \n",
    "####I want to be able to **understand my "
   ]
  },
  {
   "cell_type": "markdown",
   "id": "6c116d79",
   "metadata": {},
   "source": []
  }
 ],
 "metadata": {
  "kernelspec": {
   "display_name": "Python 3 (ipykernel)",
   "language": "python",
   "name": "python3"
  },
  "language_info": {
   "codemirror_mode": {
    "name": "ipython",
    "version": 3
   },
   "file_extension": ".py",
   "mimetype": "text/x-python",
   "name": "python",
   "nbconvert_exporter": "python",
   "pygments_lexer": "ipython3",
   "version": "3.10.4"
  }
 },
 "nbformat": 4,
 "nbformat_minor": 5
}
